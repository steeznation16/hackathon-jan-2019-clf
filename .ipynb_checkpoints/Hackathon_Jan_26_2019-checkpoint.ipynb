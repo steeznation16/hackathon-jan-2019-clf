{
 "cells": [
  {
   "cell_type": "markdown",
   "metadata": {},
   "source": [
    "# Hackathon - Flatiron October Cohort\n",
    "## Saturday, January 26, 2019\n",
    "### Andrew Wester & MAGIC MILLY"
   ]
  },
  {
   "cell_type": "code",
   "execution_count": 1,
   "metadata": {},
   "outputs": [],
   "source": [
    "import pandas as pd\n",
    "import numpy as np\n",
    "import seaborn as sns\n",
    "import matplotlib.pyplot as plt\n",
    "%matplotlib inline\n",
    "\n",
    "from sklearn.preprocessing import LabelEncoder\n",
    "\n",
    "from IPython.display import Image\n",
    "from sklearn import svm\n",
    "from sklearn.ensemble import AdaBoostClassifier, GradientBoostingClassifier, RandomForestClassifier\n",
    "from sklearn.externals.six import StringIO\n",
    "from sklearn.linear_model import LogisticRegression, LogisticRegressionCV\n",
    "from sklearn.metrics import accuracy_score, auc, classification_report, confusion_matrix, f1_score, precision_score\n",
    "from sklearn.metrics import make_scorer, recall_score, roc_curve\n",
    "from sklearn.model_selection import cross_val_score, GridSearchCV, train_test_split\n",
    "from sklearn.preprocessing import MinMaxScaler, RobustScaler, StandardScaler, OneHotEncoder\n",
    "from sklearn.tree import DecisionTreeClassifier, export_graphviz\n",
    "\n",
    "import warnings\n",
    "warnings.filterwarnings('ignore')"
   ]
  },
  {
   "cell_type": "code",
   "execution_count": 2,
   "metadata": {
    "scrolled": true
   },
   "outputs": [],
   "source": [
    "hidden_vals = ['4472-LVYGI', '3115-CZMZD', '5709-LVOEQ', '4367-NUYAO', '1371-DWPAZ', '7644-OMVMY', \n",
    "               '3213-VVOLG', '2520-SGTTA', '2923-ARZLG', '4075-WKNIU', '2775-SEFEE']"
   ]
  },
  {
   "cell_type": "code",
   "execution_count": 3,
   "metadata": {
    "scrolled": true
   },
   "outputs": [
    {
     "data": {
      "text/html": [
       "<div>\n",
       "<style scoped>\n",
       "    .dataframe tbody tr th:only-of-type {\n",
       "        vertical-align: middle;\n",
       "    }\n",
       "\n",
       "    .dataframe tbody tr th {\n",
       "        vertical-align: top;\n",
       "    }\n",
       "\n",
       "    .dataframe thead th {\n",
       "        text-align: right;\n",
       "    }\n",
       "</style>\n",
       "<table border=\"1\" class=\"dataframe\">\n",
       "  <thead>\n",
       "    <tr style=\"text-align: right;\">\n",
       "      <th></th>\n",
       "      <th>customerID</th>\n",
       "      <th>gender</th>\n",
       "      <th>SeniorCitizen</th>\n",
       "      <th>Partner</th>\n",
       "      <th>Dependents</th>\n",
       "      <th>tenure</th>\n",
       "      <th>PhoneService</th>\n",
       "      <th>MultipleLines</th>\n",
       "      <th>InternetService</th>\n",
       "      <th>OnlineSecurity</th>\n",
       "      <th>...</th>\n",
       "      <th>DeviceProtection</th>\n",
       "      <th>TechSupport</th>\n",
       "      <th>StreamingTV</th>\n",
       "      <th>StreamingMovies</th>\n",
       "      <th>Contract</th>\n",
       "      <th>PaperlessBilling</th>\n",
       "      <th>PaymentMethod</th>\n",
       "      <th>MonthlyCharges</th>\n",
       "      <th>TotalCharges</th>\n",
       "      <th>Churn</th>\n",
       "    </tr>\n",
       "  </thead>\n",
       "  <tbody>\n",
       "    <tr>\n",
       "      <th>0</th>\n",
       "      <td>7590-VHVEG</td>\n",
       "      <td>Female</td>\n",
       "      <td>0</td>\n",
       "      <td>Yes</td>\n",
       "      <td>No</td>\n",
       "      <td>1</td>\n",
       "      <td>No</td>\n",
       "      <td>No phone service</td>\n",
       "      <td>DSL</td>\n",
       "      <td>No</td>\n",
       "      <td>...</td>\n",
       "      <td>No</td>\n",
       "      <td>No</td>\n",
       "      <td>No</td>\n",
       "      <td>No</td>\n",
       "      <td>Month-to-month</td>\n",
       "      <td>Yes</td>\n",
       "      <td>Electronic check</td>\n",
       "      <td>29.85</td>\n",
       "      <td>29.85</td>\n",
       "      <td>No</td>\n",
       "    </tr>\n",
       "    <tr>\n",
       "      <th>1</th>\n",
       "      <td>5575-GNVDE</td>\n",
       "      <td>Male</td>\n",
       "      <td>0</td>\n",
       "      <td>No</td>\n",
       "      <td>No</td>\n",
       "      <td>34</td>\n",
       "      <td>Yes</td>\n",
       "      <td>No</td>\n",
       "      <td>DSL</td>\n",
       "      <td>Yes</td>\n",
       "      <td>...</td>\n",
       "      <td>Yes</td>\n",
       "      <td>No</td>\n",
       "      <td>No</td>\n",
       "      <td>No</td>\n",
       "      <td>One year</td>\n",
       "      <td>No</td>\n",
       "      <td>Mailed check</td>\n",
       "      <td>56.95</td>\n",
       "      <td>1889.5</td>\n",
       "      <td>No</td>\n",
       "    </tr>\n",
       "    <tr>\n",
       "      <th>2</th>\n",
       "      <td>3668-QPYBK</td>\n",
       "      <td>Male</td>\n",
       "      <td>0</td>\n",
       "      <td>No</td>\n",
       "      <td>No</td>\n",
       "      <td>2</td>\n",
       "      <td>Yes</td>\n",
       "      <td>No</td>\n",
       "      <td>DSL</td>\n",
       "      <td>Yes</td>\n",
       "      <td>...</td>\n",
       "      <td>No</td>\n",
       "      <td>No</td>\n",
       "      <td>No</td>\n",
       "      <td>No</td>\n",
       "      <td>Month-to-month</td>\n",
       "      <td>Yes</td>\n",
       "      <td>Mailed check</td>\n",
       "      <td>53.85</td>\n",
       "      <td>108.15</td>\n",
       "      <td>Yes</td>\n",
       "    </tr>\n",
       "    <tr>\n",
       "      <th>3</th>\n",
       "      <td>7795-CFOCW</td>\n",
       "      <td>Male</td>\n",
       "      <td>0</td>\n",
       "      <td>No</td>\n",
       "      <td>No</td>\n",
       "      <td>45</td>\n",
       "      <td>No</td>\n",
       "      <td>No phone service</td>\n",
       "      <td>DSL</td>\n",
       "      <td>Yes</td>\n",
       "      <td>...</td>\n",
       "      <td>Yes</td>\n",
       "      <td>Yes</td>\n",
       "      <td>No</td>\n",
       "      <td>No</td>\n",
       "      <td>One year</td>\n",
       "      <td>No</td>\n",
       "      <td>Bank transfer (automatic)</td>\n",
       "      <td>42.30</td>\n",
       "      <td>1840.75</td>\n",
       "      <td>No</td>\n",
       "    </tr>\n",
       "    <tr>\n",
       "      <th>4</th>\n",
       "      <td>9237-HQITU</td>\n",
       "      <td>Female</td>\n",
       "      <td>0</td>\n",
       "      <td>No</td>\n",
       "      <td>No</td>\n",
       "      <td>2</td>\n",
       "      <td>Yes</td>\n",
       "      <td>No</td>\n",
       "      <td>Fiber optic</td>\n",
       "      <td>No</td>\n",
       "      <td>...</td>\n",
       "      <td>No</td>\n",
       "      <td>No</td>\n",
       "      <td>No</td>\n",
       "      <td>No</td>\n",
       "      <td>Month-to-month</td>\n",
       "      <td>Yes</td>\n",
       "      <td>Electronic check</td>\n",
       "      <td>70.70</td>\n",
       "      <td>151.65</td>\n",
       "      <td>Yes</td>\n",
       "    </tr>\n",
       "  </tbody>\n",
       "</table>\n",
       "<p>5 rows × 21 columns</p>\n",
       "</div>"
      ],
      "text/plain": [
       "   customerID  gender  SeniorCitizen Partner Dependents  tenure PhoneService  \\\n",
       "0  7590-VHVEG  Female              0     Yes         No       1           No   \n",
       "1  5575-GNVDE    Male              0      No         No      34          Yes   \n",
       "2  3668-QPYBK    Male              0      No         No       2          Yes   \n",
       "3  7795-CFOCW    Male              0      No         No      45           No   \n",
       "4  9237-HQITU  Female              0      No         No       2          Yes   \n",
       "\n",
       "      MultipleLines InternetService OnlineSecurity  ...  DeviceProtection  \\\n",
       "0  No phone service             DSL             No  ...                No   \n",
       "1                No             DSL            Yes  ...               Yes   \n",
       "2                No             DSL            Yes  ...                No   \n",
       "3  No phone service             DSL            Yes  ...               Yes   \n",
       "4                No     Fiber optic             No  ...                No   \n",
       "\n",
       "  TechSupport StreamingTV StreamingMovies        Contract PaperlessBilling  \\\n",
       "0          No          No              No  Month-to-month              Yes   \n",
       "1          No          No              No        One year               No   \n",
       "2          No          No              No  Month-to-month              Yes   \n",
       "3         Yes          No              No        One year               No   \n",
       "4          No          No              No  Month-to-month              Yes   \n",
       "\n",
       "               PaymentMethod MonthlyCharges  TotalCharges Churn  \n",
       "0           Electronic check          29.85         29.85    No  \n",
       "1               Mailed check          56.95        1889.5    No  \n",
       "2               Mailed check          53.85        108.15   Yes  \n",
       "3  Bank transfer (automatic)          42.30       1840.75    No  \n",
       "4           Electronic check          70.70        151.65   Yes  \n",
       "\n",
       "[5 rows x 21 columns]"
      ]
     },
     "execution_count": 3,
     "metadata": {},
     "output_type": "execute_result"
    }
   ],
   "source": [
    "df = pd.read_csv('WA_Fn-UseC_-Telco-Customer-Churn.csv')\n",
    "df.head()"
   ]
  },
  {
   "cell_type": "code",
   "execution_count": 4,
   "metadata": {},
   "outputs": [
    {
     "name": "stdout",
     "output_type": "stream",
     "text": [
      "Int64Index([488], dtype='int64')\n",
      "Int64Index([753], dtype='int64')\n",
      "Int64Index([936], dtype='int64')\n",
      "Int64Index([1082], dtype='int64')\n",
      "Int64Index([1340], dtype='int64')\n",
      "Int64Index([3331], dtype='int64')\n",
      "Int64Index([3826], dtype='int64')\n",
      "Int64Index([4380], dtype='int64')\n",
      "Int64Index([5218], dtype='int64')\n",
      "Int64Index([6670], dtype='int64')\n",
      "Int64Index([6754], dtype='int64')\n"
     ]
    }
   ],
   "source": [
    "for val in hidden_vals:\n",
    "    print(df.loc[df['customerID'] == val].index)"
   ]
  },
  {
   "cell_type": "code",
   "execution_count": 5,
   "metadata": {},
   "outputs": [],
   "source": [
    "indexes = [488, 753, 936, 1082, 1340, 3331, 3826, 4380, 5218, 6670, 6754]\n",
    "for index in indexes:\n",
    "    df.drop(index=index, inplace=True)"
   ]
  },
  {
   "cell_type": "code",
   "execution_count": 6,
   "metadata": {
    "scrolled": true
   },
   "outputs": [
    {
     "data": {
      "text/plain": [
       "20.2       11\n",
       "19.75       9\n",
       "19.9        8\n",
       "19.65       8\n",
       "20.05       8\n",
       "19.55       7\n",
       "45.3        7\n",
       "20.25       6\n",
       "20.15       6\n",
       "19.45       6\n",
       "20.3        5\n",
       "20.45       5\n",
       "69.65       4\n",
       "19.85       4\n",
       "19.3        4\n",
       "20.5        4\n",
       "44          4\n",
       "69.6        4\n",
       "19.95       4\n",
       "75.3        4\n",
       "50.15       4\n",
       "69.95       4\n",
       "69.9        4\n",
       "20.35       4\n",
       "74.7        4\n",
       "20.4        4\n",
       "19.2        4\n",
       "19.5        4\n",
       "49.9        4\n",
       "19.4        4\n",
       "           ..\n",
       "3204.4      1\n",
       "2653.65     1\n",
       "2210.2      1\n",
       "1625.65     1\n",
       "4016.85     1\n",
       "1980.3      1\n",
       "871.4       1\n",
       "3876.2      1\n",
       "1975.85     1\n",
       "893         1\n",
       "2196.15     1\n",
       "5243.05     1\n",
       "5611.7      1\n",
       "781.25      1\n",
       "834.2       1\n",
       "6758.45     1\n",
       "978.6       1\n",
       "1974.8      1\n",
       "2595.25     1\n",
       "1244.5      1\n",
       "2335.3      1\n",
       "5071.05     1\n",
       "7553.6      1\n",
       "4428.45     1\n",
       "1269.55     1\n",
       "273.75      1\n",
       "5165.7      1\n",
       "827.45      1\n",
       "3027.25     1\n",
       "246.25      1\n",
       "Name: TotalCharges, Length: 6530, dtype: int64"
      ]
     },
     "execution_count": 6,
     "metadata": {},
     "output_type": "execute_result"
    }
   ],
   "source": [
    "df.TotalCharges.value_counts()"
   ]
  },
  {
   "cell_type": "code",
   "execution_count": 7,
   "metadata": {
    "scrolled": true
   },
   "outputs": [],
   "source": [
    "df.TotalCharges = df.TotalCharges.astype('float')"
   ]
  },
  {
   "cell_type": "code",
   "execution_count": 8,
   "metadata": {},
   "outputs": [
    {
     "data": {
      "image/png": "[encoded data removed]",
      "text/plain": [
       "<Figure size 432x288 with 1 Axes>"
      ]
     },
     "metadata": {
      "needs_background": "light"
     },
     "output_type": "display_data"
    }
   ],
   "source": [
    "x = df.tenure\n",
    "y = df.TotalCharges\n",
    "plt.scatter(x, y);"
   ]
  },
  {
   "cell_type": "code",
   "execution_count": 9,
   "metadata": {},
   "outputs": [
    {
     "data": {
      "text/plain": [
       "customerID          0\n",
       "gender              0\n",
       "SeniorCitizen       0\n",
       "Partner             0\n",
       "Dependents          0\n",
       "tenure              0\n",
       "PhoneService        0\n",
       "MultipleLines       0\n",
       "InternetService     0\n",
       "OnlineSecurity      0\n",
       "OnlineBackup        0\n",
       "DeviceProtection    0\n",
       "TechSupport         0\n",
       "StreamingTV         0\n",
       "StreamingMovies     0\n",
       "Contract            0\n",
       "PaperlessBilling    0\n",
       "PaymentMethod       0\n",
       "MonthlyCharges      0\n",
       "TotalCharges        0\n",
       "Churn               0\n",
       "dtype: int64"
      ]
     },
     "execution_count": 9,
     "metadata": {},
     "output_type": "execute_result"
    }
   ],
   "source": [
    "df.isna().sum()"
   ]
  },
  {
   "cell_type": "markdown",
   "metadata": {},
   "source": [
    "# Column information and Values\n",
    "* customerID can likely be dropped **DROP**\n",
    "* gender is normal\n",
    "* SeniorCitizen is binary (0 or 1)\n",
    "* Partner is Yes or No values\n",
    "* Dependents is Yes or No values\n",
    "* tenure is values ranging from 0 to 72\n",
    "* PhoneService is yes or no values\n",
    "* MultipleLines is Yes, No, or \"No phone service\"\n",
    "* InternetService is Fiber optic, DBL, or No\n",
    "* OnlineSecurity is No, Yes, or \"No internet service\"\n",
    "* OnlineBackup is No, Yes, or \"No internet servie\"\n",
    "* DeviceProtection is No, Yes, or \"No internet service\"\n",
    "* TechSupport is No, Yes, or \"No internet service\"\n",
    "* StreamingTV is No, Yes, or \"No internet service\"\n",
    "* StreamingMovies is No, Yes, or \"No internet service\"\n",
    "* Contract is Month-to-month, Two year, or One year\n",
    "* PaperlessBilling is Yes or No\n",
    "* PaymentMethod is Electronic check, Mailed check, Bank transfer (automatic), Credit card (automatic)\n",
    "* MonthlyCharges is from 18.25 to 118.75\n",
    "* TotalCharges is \n",
    "* Churn is a No or Yes value (OUR TARGET)"
   ]
  },
  {
   "cell_type": "code",
   "execution_count": 10,
   "metadata": {},
   "outputs": [],
   "source": [
    "df.drop(columns=['customerID'], inplace=True)"
   ]
  },
  {
   "cell_type": "code",
   "execution_count": 11,
   "metadata": {
    "scrolled": false
   },
   "outputs": [
    {
     "name": "stdout",
     "output_type": "stream",
     "text": [
      "<class 'pandas.core.frame.DataFrame'>\n",
      "Int64Index: 7032 entries, 0 to 7042\n",
      "Data columns (total 20 columns):\n",
      "gender              7032 non-null int64\n",
      "SeniorCitizen       7032 non-null int64\n",
      "Partner             7032 non-null int64\n",
      "Dependents          7032 non-null int64\n",
      "tenure              7032 non-null int64\n",
      "PhoneService        7032 non-null int64\n",
      "MultipleLines       7032 non-null int64\n",
      "InternetService     7032 non-null int64\n",
      "OnlineSecurity      7032 non-null int64\n",
      "OnlineBackup        7032 non-null int64\n",
      "DeviceProtection    7032 non-null int64\n",
      "TechSupport         7032 non-null int64\n",
      "StreamingTV         7032 non-null int64\n",
      "StreamingMovies     7032 non-null int64\n",
      "Contract            7032 non-null int64\n",
      "PaperlessBilling    7032 non-null int64\n",
      "PaymentMethod       7032 non-null object\n",
      "MonthlyCharges      7032 non-null float64\n",
      "TotalCharges        7032 non-null float64\n",
      "Churn               7032 non-null int64\n",
      "dtypes: float64(2), int64(17), object(1)\n",
      "memory usage: 1.1+ MB\n"
     ]
    }
   ],
   "source": [
    "df.gender = df['gender'].map({'Male':1, 'Female':0})\n",
    "df.Partner = df['Partner'].map({'Yes':1, 'No':0})\n",
    "df.Dependents = df['Dependents'].map({'Yes':1, 'No':0})\n",
    "df.PhoneService = df['PhoneService'].map({'Yes':1, 'No':0})\n",
    "df.PaperlessBilling = df['PaperlessBilling'].map({'Yes':1, 'No':0})\n",
    "df.MultipleLines = df['MultipleLines'].map({'Yes':1, 'No':0, 'No phone service': 2})\n",
    "df.InternetService = df['InternetService'].map({'Fiber optic':2, 'DSL':1, 'No':0})\n",
    "df.OnlineSecurity = df['OnlineSecurity'].map({'No':0, 'Yes':1, 'No internet service':2})\n",
    "df.OnlineBackup = df['OnlineBackup'].map({'No':0, 'Yes':1, 'No internet service':2})\n",
    "df.DeviceProtection = df['DeviceProtection'].map({'No':0, 'Yes':1, 'No internet service':2})\n",
    "df.TechSupport = df['TechSupport'].map({'No':0, 'Yes':1, 'No internet service':2})\n",
    "df.StreamingTV = df['StreamingTV'].map({'No':0, 'Yes':1, 'No internet service':2})\n",
    "df.StreamingMovies = df['StreamingMovies'].map({'No':0, 'Yes':1, 'No internet service':2})\n",
    "df.Contract = df['Contract'].map({'Month-to-month':0, 'Two year':2, 'One year':1})\n",
    "df.Churn = df['Churn'].map({'Yes':1, 'No':0})\n",
    "df.info()"
   ]
  },
  {
   "cell_type": "code",
   "execution_count": 12,
   "metadata": {
    "scrolled": true
   },
   "outputs": [
    {
     "data": {
      "image/png": "[encoded data removed]",
      "text/plain": [
       "<Figure size 432x288 with 1 Axes>"
      ]
     },
     "metadata": {
      "needs_background": "light"
     },
     "output_type": "display_data"
    }
   ],
   "source": [
    "plt.hist(df.tenure);"
   ]
  },
  {
   "cell_type": "code",
   "execution_count": 13,
   "metadata": {},
   "outputs": [
    {
     "data": {
      "image/png": "[encoded data removed]",
      "text/plain": [
       "<Figure size 432x288 with 1 Axes>"
      ]
     },
     "metadata": {
      "needs_background": "light"
     },
     "output_type": "display_data"
    }
   ],
   "source": [
    "plt.hist(df.MonthlyCharges);"
   ]
  },
  {
   "cell_type": "code",
   "execution_count": 14,
   "metadata": {
    "scrolled": true
   },
   "outputs": [
    {
     "data": {
      "image/png": "[encoded data removed]",
      "text/plain": [
       "<Figure size 432x288 with 1 Axes>"
      ]
     },
     "metadata": {
      "needs_background": "light"
     },
     "output_type": "display_data"
    }
   ],
   "source": [
    "plt.hist(df.Churn);"
   ]
  },
  {
   "cell_type": "code",
   "execution_count": 15,
   "metadata": {},
   "outputs": [
    {
     "data": {
      "text/plain": [
       "<Figure size 504x504 with 0 Axes>"
      ]
     },
     "execution_count": 15,
     "metadata": {},
     "output_type": "execute_result"
    },
    {
     "data": {
      "image/png": "[encoded data removed]",
      "text/plain": [
       "<Figure size 432x288 with 1 Axes>"
      ]
     },
     "metadata": {},
     "output_type": "display_data"
    },
    {
     "data": {
      "text/plain": [
       "<Figure size 504x504 with 0 Axes>"
      ]
     },
     "metadata": {},
     "output_type": "display_data"
    }
   ],
   "source": [
    "(df['InternetService'].value_counts()*100.0 /len(df)).plot(kind='pie', labels = ['Fiber optic', 'DSL', 'No'],  colors = ['orange','purple', 'black'], fontsize = 15)\n",
    "plt.figure(figsize = (7,7))"
   ]
  },
  {
   "cell_type": "code",
   "execution_count": 16,
   "metadata": {},
   "outputs": [
    {
     "data": {
      "text/html": [
       "<div>\n",
       "<style scoped>\n",
       "    .dataframe tbody tr th:only-of-type {\n",
       "        vertical-align: middle;\n",
       "    }\n",
       "\n",
       "    .dataframe tbody tr th {\n",
       "        vertical-align: top;\n",
       "    }\n",
       "\n",
       "    .dataframe thead th {\n",
       "        text-align: right;\n",
       "    }\n",
       "</style>\n",
       "<table border=\"1\" class=\"dataframe\">\n",
       "  <thead>\n",
       "    <tr style=\"text-align: right;\">\n",
       "      <th></th>\n",
       "      <th>gender</th>\n",
       "      <th>SeniorCitizen</th>\n",
       "      <th>Partner</th>\n",
       "      <th>Dependents</th>\n",
       "      <th>tenure</th>\n",
       "      <th>PhoneService</th>\n",
       "      <th>MultipleLines</th>\n",
       "      <th>InternetService</th>\n",
       "      <th>OnlineSecurity</th>\n",
       "      <th>OnlineBackup</th>\n",
       "      <th>...</th>\n",
       "      <th>StreamingMovies</th>\n",
       "      <th>Contract</th>\n",
       "      <th>PaperlessBilling</th>\n",
       "      <th>MonthlyCharges</th>\n",
       "      <th>TotalCharges</th>\n",
       "      <th>Churn</th>\n",
       "      <th>PaymentMethod_Bank transfer (automatic)</th>\n",
       "      <th>PaymentMethod_Credit card (automatic)</th>\n",
       "      <th>PaymentMethod_Electronic check</th>\n",
       "      <th>PaymentMethod_Mailed check</th>\n",
       "    </tr>\n",
       "  </thead>\n",
       "  <tbody>\n",
       "    <tr>\n",
       "      <th>0</th>\n",
       "      <td>0</td>\n",
       "      <td>0</td>\n",
       "      <td>1</td>\n",
       "      <td>0</td>\n",
       "      <td>1</td>\n",
       "      <td>0</td>\n",
       "      <td>2</td>\n",
       "      <td>1</td>\n",
       "      <td>0</td>\n",
       "      <td>1</td>\n",
       "      <td>...</td>\n",
       "      <td>0</td>\n",
       "      <td>0</td>\n",
       "      <td>1</td>\n",
       "      <td>29.85</td>\n",
       "      <td>29.85</td>\n",
       "      <td>0</td>\n",
       "      <td>0</td>\n",
       "      <td>0</td>\n",
       "      <td>1</td>\n",
       "      <td>0</td>\n",
       "    </tr>\n",
       "    <tr>\n",
       "      <th>1</th>\n",
       "      <td>1</td>\n",
       "      <td>0</td>\n",
       "      <td>0</td>\n",
       "      <td>0</td>\n",
       "      <td>34</td>\n",
       "      <td>1</td>\n",
       "      <td>0</td>\n",
       "      <td>1</td>\n",
       "      <td>1</td>\n",
       "      <td>0</td>\n",
       "      <td>...</td>\n",
       "      <td>0</td>\n",
       "      <td>1</td>\n",
       "      <td>0</td>\n",
       "      <td>56.95</td>\n",
       "      <td>1889.50</td>\n",
       "      <td>0</td>\n",
       "      <td>0</td>\n",
       "      <td>0</td>\n",
       "      <td>0</td>\n",
       "      <td>1</td>\n",
       "    </tr>\n",
       "    <tr>\n",
       "      <th>2</th>\n",
       "      <td>1</td>\n",
       "      <td>0</td>\n",
       "      <td>0</td>\n",
       "      <td>0</td>\n",
       "      <td>2</td>\n",
       "      <td>1</td>\n",
       "      <td>0</td>\n",
       "      <td>1</td>\n",
       "      <td>1</td>\n",
       "      <td>1</td>\n",
       "      <td>...</td>\n",
       "      <td>0</td>\n",
       "      <td>0</td>\n",
       "      <td>1</td>\n",
       "      <td>53.85</td>\n",
       "      <td>108.15</td>\n",
       "      <td>1</td>\n",
       "      <td>0</td>\n",
       "      <td>0</td>\n",
       "      <td>0</td>\n",
       "      <td>1</td>\n",
       "    </tr>\n",
       "    <tr>\n",
       "      <th>3</th>\n",
       "      <td>1</td>\n",
       "      <td>0</td>\n",
       "      <td>0</td>\n",
       "      <td>0</td>\n",
       "      <td>45</td>\n",
       "      <td>0</td>\n",
       "      <td>2</td>\n",
       "      <td>1</td>\n",
       "      <td>1</td>\n",
       "      <td>0</td>\n",
       "      <td>...</td>\n",
       "      <td>0</td>\n",
       "      <td>1</td>\n",
       "      <td>0</td>\n",
       "      <td>42.30</td>\n",
       "      <td>1840.75</td>\n",
       "      <td>0</td>\n",
       "      <td>1</td>\n",
       "      <td>0</td>\n",
       "      <td>0</td>\n",
       "      <td>0</td>\n",
       "    </tr>\n",
       "    <tr>\n",
       "      <th>4</th>\n",
       "      <td>0</td>\n",
       "      <td>0</td>\n",
       "      <td>0</td>\n",
       "      <td>0</td>\n",
       "      <td>2</td>\n",
       "      <td>1</td>\n",
       "      <td>0</td>\n",
       "      <td>2</td>\n",
       "      <td>0</td>\n",
       "      <td>0</td>\n",
       "      <td>...</td>\n",
       "      <td>0</td>\n",
       "      <td>0</td>\n",
       "      <td>1</td>\n",
       "      <td>70.70</td>\n",
       "      <td>151.65</td>\n",
       "      <td>1</td>\n",
       "      <td>0</td>\n",
       "      <td>0</td>\n",
       "      <td>1</td>\n",
       "      <td>0</td>\n",
       "    </tr>\n",
       "  </tbody>\n",
       "</table>\n",
       "<p>5 rows × 23 columns</p>\n",
       "</div>"
      ],
      "text/plain": [
       "   gender  SeniorCitizen  Partner  Dependents  tenure  PhoneService  \\\n",
       "0       0              0        1           0       1             0   \n",
       "1       1              0        0           0      34             1   \n",
       "2       1              0        0           0       2             1   \n",
       "3       1              0        0           0      45             0   \n",
       "4       0              0        0           0       2             1   \n",
       "\n",
       "   MultipleLines  InternetService  OnlineSecurity  OnlineBackup  \\\n",
       "0              2                1               0             1   \n",
       "1              0                1               1             0   \n",
       "2              0                1               1             1   \n",
       "3              2                1               1             0   \n",
       "4              0                2               0             0   \n",
       "\n",
       "              ...              StreamingMovies  Contract  PaperlessBilling  \\\n",
       "0             ...                            0         0                 1   \n",
       "1             ...                            0         1                 0   \n",
       "2             ...                            0         0                 1   \n",
       "3             ...                            0         1                 0   \n",
       "4             ...                            0         0                 1   \n",
       "\n",
       "   MonthlyCharges  TotalCharges  Churn  \\\n",
       "0           29.85         29.85      0   \n",
       "1           56.95       1889.50      0   \n",
       "2           53.85        108.15      1   \n",
       "3           42.30       1840.75      0   \n",
       "4           70.70        151.65      1   \n",
       "\n",
       "   PaymentMethod_Bank transfer (automatic)  \\\n",
       "0                                        0   \n",
       "1                                        0   \n",
       "2                                        0   \n",
       "3                                        1   \n",
       "4                                        0   \n",
       "\n",
       "   PaymentMethod_Credit card (automatic)  PaymentMethod_Electronic check  \\\n",
       "0                                      0                               1   \n",
       "1                                      0                               0   \n",
       "2                                      0                               0   \n",
       "3                                      0                               0   \n",
       "4                                      0                               1   \n",
       "\n",
       "   PaymentMethod_Mailed check  \n",
       "0                           0  \n",
       "1                           1  \n",
       "2                           1  \n",
       "3                           0  \n",
       "4                           0  \n",
       "\n",
       "[5 rows x 23 columns]"
      ]
     },
     "execution_count": 16,
     "metadata": {},
     "output_type": "execute_result"
    }
   ],
   "source": [
    "df = pd.get_dummies(df)\n",
    "df.head()"
   ]
  },
  {
   "cell_type": "code",
   "execution_count": 17,
   "metadata": {},
   "outputs": [
    {
     "name": "stdout",
     "output_type": "stream",
     "text": [
      "<class 'pandas.core.frame.DataFrame'>\n",
      "Int64Index: 7032 entries, 0 to 7042\n",
      "Data columns (total 23 columns):\n",
      "gender                                     7032 non-null int64\n",
      "SeniorCitizen                              7032 non-null int64\n",
      "Partner                                    7032 non-null int64\n",
      "Dependents                                 7032 non-null int64\n",
      "tenure                                     7032 non-null int64\n",
      "PhoneService                               7032 non-null int64\n",
      "MultipleLines                              7032 non-null int64\n",
      "InternetService                            7032 non-null int64\n",
      "OnlineSecurity                             7032 non-null int64\n",
      "OnlineBackup                               7032 non-null int64\n",
      "DeviceProtection                           7032 non-null int64\n",
      "TechSupport                                7032 non-null int64\n",
      "StreamingTV                                7032 non-null int64\n",
      "StreamingMovies                            7032 non-null int64\n",
      "Contract                                   7032 non-null int64\n",
      "PaperlessBilling                           7032 non-null int64\n",
      "MonthlyCharges                             7032 non-null float64\n",
      "TotalCharges                               7032 non-null float64\n",
      "Churn                                      7032 non-null int64\n",
      "PaymentMethod_Bank transfer (automatic)    7032 non-null uint8\n",
      "PaymentMethod_Credit card (automatic)      7032 non-null uint8\n",
      "PaymentMethod_Electronic check             7032 non-null uint8\n",
      "PaymentMethod_Mailed check                 7032 non-null uint8\n",
      "dtypes: float64(2), int64(17), uint8(4)\n",
      "memory usage: 1.1 MB\n",
      "None\n"
     ]
    },
    {
     "data": {
      "text/html": [
       "<div>\n",
       "<style scoped>\n",
       "    .dataframe tbody tr th:only-of-type {\n",
       "        vertical-align: middle;\n",
       "    }\n",
       "\n",
       "    .dataframe tbody tr th {\n",
       "        vertical-align: top;\n",
       "    }\n",
       "\n",
       "    .dataframe thead th {\n",
       "        text-align: right;\n",
       "    }\n",
       "</style>\n",
       "<table border=\"1\" class=\"dataframe\">\n",
       "  <thead>\n",
       "    <tr style=\"text-align: right;\">\n",
       "      <th></th>\n",
       "      <th>gender</th>\n",
       "      <th>SeniorCitizen</th>\n",
       "      <th>Partner</th>\n",
       "      <th>Dependents</th>\n",
       "      <th>tenure</th>\n",
       "      <th>PhoneService</th>\n",
       "      <th>MultipleLines</th>\n",
       "      <th>InternetService</th>\n",
       "      <th>OnlineSecurity</th>\n",
       "      <th>OnlineBackup</th>\n",
       "      <th>...</th>\n",
       "      <th>StreamingMovies</th>\n",
       "      <th>Contract</th>\n",
       "      <th>PaperlessBilling</th>\n",
       "      <th>MonthlyCharges</th>\n",
       "      <th>TotalCharges</th>\n",
       "      <th>Churn</th>\n",
       "      <th>PaymentMethod_Bank transfer (automatic)</th>\n",
       "      <th>PaymentMethod_Credit card (automatic)</th>\n",
       "      <th>PaymentMethod_Electronic check</th>\n",
       "      <th>PaymentMethod_Mailed check</th>\n",
       "    </tr>\n",
       "  </thead>\n",
       "  <tbody>\n",
       "    <tr>\n",
       "      <th>0</th>\n",
       "      <td>0</td>\n",
       "      <td>0</td>\n",
       "      <td>1</td>\n",
       "      <td>0</td>\n",
       "      <td>1</td>\n",
       "      <td>0</td>\n",
       "      <td>2</td>\n",
       "      <td>1</td>\n",
       "      <td>0</td>\n",
       "      <td>1</td>\n",
       "      <td>...</td>\n",
       "      <td>0</td>\n",
       "      <td>0</td>\n",
       "      <td>1</td>\n",
       "      <td>29.85</td>\n",
       "      <td>29.85</td>\n",
       "      <td>0</td>\n",
       "      <td>0</td>\n",
       "      <td>0</td>\n",
       "      <td>1</td>\n",
       "      <td>0</td>\n",
       "    </tr>\n",
       "    <tr>\n",
       "      <th>1</th>\n",
       "      <td>1</td>\n",
       "      <td>0</td>\n",
       "      <td>0</td>\n",
       "      <td>0</td>\n",
       "      <td>34</td>\n",
       "      <td>1</td>\n",
       "      <td>0</td>\n",
       "      <td>1</td>\n",
       "      <td>1</td>\n",
       "      <td>0</td>\n",
       "      <td>...</td>\n",
       "      <td>0</td>\n",
       "      <td>1</td>\n",
       "      <td>0</td>\n",
       "      <td>56.95</td>\n",
       "      <td>1889.50</td>\n",
       "      <td>0</td>\n",
       "      <td>0</td>\n",
       "      <td>0</td>\n",
       "      <td>0</td>\n",
       "      <td>1</td>\n",
       "    </tr>\n",
       "    <tr>\n",
       "      <th>2</th>\n",
       "      <td>1</td>\n",
       "      <td>0</td>\n",
       "      <td>0</td>\n",
       "      <td>0</td>\n",
       "      <td>2</td>\n",
       "      <td>1</td>\n",
       "      <td>0</td>\n",
       "      <td>1</td>\n",
       "      <td>1</td>\n",
       "      <td>1</td>\n",
       "      <td>...</td>\n",
       "      <td>0</td>\n",
       "      <td>0</td>\n",
       "      <td>1</td>\n",
       "      <td>53.85</td>\n",
       "      <td>108.15</td>\n",
       "      <td>1</td>\n",
       "      <td>0</td>\n",
       "      <td>0</td>\n",
       "      <td>0</td>\n",
       "      <td>1</td>\n",
       "    </tr>\n",
       "    <tr>\n",
       "      <th>3</th>\n",
       "      <td>1</td>\n",
       "      <td>0</td>\n",
       "      <td>0</td>\n",
       "      <td>0</td>\n",
       "      <td>45</td>\n",
       "      <td>0</td>\n",
       "      <td>2</td>\n",
       "      <td>1</td>\n",
       "      <td>1</td>\n",
       "      <td>0</td>\n",
       "      <td>...</td>\n",
       "      <td>0</td>\n",
       "      <td>1</td>\n",
       "      <td>0</td>\n",
       "      <td>42.30</td>\n",
       "      <td>1840.75</td>\n",
       "      <td>0</td>\n",
       "      <td>1</td>\n",
       "      <td>0</td>\n",
       "      <td>0</td>\n",
       "      <td>0</td>\n",
       "    </tr>\n",
       "    <tr>\n",
       "      <th>4</th>\n",
       "      <td>0</td>\n",
       "      <td>0</td>\n",
       "      <td>0</td>\n",
       "      <td>0</td>\n",
       "      <td>2</td>\n",
       "      <td>1</td>\n",
       "      <td>0</td>\n",
       "      <td>2</td>\n",
       "      <td>0</td>\n",
       "      <td>0</td>\n",
       "      <td>...</td>\n",
       "      <td>0</td>\n",
       "      <td>0</td>\n",
       "      <td>1</td>\n",
       "      <td>70.70</td>\n",
       "      <td>151.65</td>\n",
       "      <td>1</td>\n",
       "      <td>0</td>\n",
       "      <td>0</td>\n",
       "      <td>1</td>\n",
       "      <td>0</td>\n",
       "    </tr>\n",
       "  </tbody>\n",
       "</table>\n",
       "<p>5 rows × 23 columns</p>\n",
       "</div>"
      ],
      "text/plain": [
       "   gender  SeniorCitizen  Partner  Dependents  tenure  PhoneService  \\\n",
       "0       0              0        1           0       1             0   \n",
       "1       1              0        0           0      34             1   \n",
       "2       1              0        0           0       2             1   \n",
       "3       1              0        0           0      45             0   \n",
       "4       0              0        0           0       2             1   \n",
       "\n",
       "   MultipleLines  InternetService  OnlineSecurity  OnlineBackup  \\\n",
       "0              2                1               0             1   \n",
       "1              0                1               1             0   \n",
       "2              0                1               1             1   \n",
       "3              2                1               1             0   \n",
       "4              0                2               0             0   \n",
       "\n",
       "              ...              StreamingMovies  Contract  PaperlessBilling  \\\n",
       "0             ...                            0         0                 1   \n",
       "1             ...                            0         1                 0   \n",
       "2             ...                            0         0                 1   \n",
       "3             ...                            0         1                 0   \n",
       "4             ...                            0         0                 1   \n",
       "\n",
       "   MonthlyCharges  TotalCharges  Churn  \\\n",
       "0           29.85         29.85      0   \n",
       "1           56.95       1889.50      0   \n",
       "2           53.85        108.15      1   \n",
       "3           42.30       1840.75      0   \n",
       "4           70.70        151.65      1   \n",
       "\n",
       "   PaymentMethod_Bank transfer (automatic)  \\\n",
       "0                                        0   \n",
       "1                                        0   \n",
       "2                                        0   \n",
       "3                                        1   \n",
       "4                                        0   \n",
       "\n",
       "   PaymentMethod_Credit card (automatic)  PaymentMethod_Electronic check  \\\n",
       "0                                      0                               1   \n",
       "1                                      0                               0   \n",
       "2                                      0                               0   \n",
       "3                                      0                               0   \n",
       "4                                      0                               1   \n",
       "\n",
       "   PaymentMethod_Mailed check  \n",
       "0                           0  \n",
       "1                           1  \n",
       "2                           1  \n",
       "3                           0  \n",
       "4                           0  \n",
       "\n",
       "[5 rows x 23 columns]"
      ]
     },
     "execution_count": 17,
     "metadata": {},
     "output_type": "execute_result"
    }
   ],
   "source": [
    "print(df.info())\n",
    "df.head()"
   ]
  },
  {
   "cell_type": "code",
   "execution_count": 18,
   "metadata": {},
   "outputs": [
    {
     "data": {
      "text/plain": [
       "<matplotlib.axes._subplots.AxesSubplot at 0x108251dd8>"
      ]
     },
     "execution_count": 18,
     "metadata": {},
     "output_type": "execute_result"
    },
    {
     "data": {
      "image/png": "[encoded data removed]",
      "text/plain": [
       "<Figure size 720x720 with 2 Axes>"
      ]
     },
     "metadata": {
      "needs_background": "light"
     },
     "output_type": "display_data"
    }
   ],
   "source": [
    "plt.figure(figsize=(10,10))\n",
    "sns.heatmap(df.corr())"
   ]
  },
  {
   "cell_type": "code",
   "execution_count": 19,
   "metadata": {},
   "outputs": [],
   "source": [
    "# monthly charges v internet service\n",
    "# tenure v total charges\n",
    "#"
   ]
  },
  {
   "cell_type": "code",
   "execution_count": 20,
   "metadata": {},
   "outputs": [
    {
     "data": {
      "text/html": [
       "<div>\n",
       "<style scoped>\n",
       "    .dataframe tbody tr th:only-of-type {\n",
       "        vertical-align: middle;\n",
       "    }\n",
       "\n",
       "    .dataframe tbody tr th {\n",
       "        vertical-align: top;\n",
       "    }\n",
       "\n",
       "    .dataframe thead th {\n",
       "        text-align: right;\n",
       "    }\n",
       "</style>\n",
       "<table border=\"1\" class=\"dataframe\">\n",
       "  <thead>\n",
       "    <tr style=\"text-align: right;\">\n",
       "      <th></th>\n",
       "      <th>0</th>\n",
       "      <th>1</th>\n",
       "      <th>2</th>\n",
       "      <th>3</th>\n",
       "      <th>4</th>\n",
       "      <th>5</th>\n",
       "      <th>6</th>\n",
       "      <th>7</th>\n",
       "      <th>8</th>\n",
       "      <th>9</th>\n",
       "      <th>...</th>\n",
       "      <th>13</th>\n",
       "      <th>14</th>\n",
       "      <th>15</th>\n",
       "      <th>16</th>\n",
       "      <th>17</th>\n",
       "      <th>18</th>\n",
       "      <th>19</th>\n",
       "      <th>20</th>\n",
       "      <th>21</th>\n",
       "      <th>22</th>\n",
       "    </tr>\n",
       "  </thead>\n",
       "  <tbody>\n",
       "    <tr>\n",
       "      <th>0</th>\n",
       "      <td>-1.009430</td>\n",
       "      <td>-0.440327</td>\n",
       "      <td>1.035617</td>\n",
       "      <td>-0.652305</td>\n",
       "      <td>-1.280248</td>\n",
       "      <td>-3.056334</td>\n",
       "      <td>2.111355</td>\n",
       "      <td>-0.287852</td>\n",
       "      <td>-0.902520</td>\n",
       "      <td>0.286376</td>\n",
       "      <td>...</td>\n",
       "      <td>-1.078089</td>\n",
       "      <td>-0.826735</td>\n",
       "      <td>0.828939</td>\n",
       "      <td>-1.161694</td>\n",
       "      <td>-0.994194</td>\n",
       "      <td>-0.601663</td>\n",
       "      <td>-0.529976</td>\n",
       "      <td>-0.525351</td>\n",
       "      <td>1.404764</td>\n",
       "      <td>-0.543604</td>\n",
       "    </tr>\n",
       "    <tr>\n",
       "      <th>1</th>\n",
       "      <td>0.990658</td>\n",
       "      <td>-0.440327</td>\n",
       "      <td>-0.965608</td>\n",
       "      <td>-0.652305</td>\n",
       "      <td>0.064303</td>\n",
       "      <td>0.327189</td>\n",
       "      <td>-0.938260</td>\n",
       "      <td>-0.287852</td>\n",
       "      <td>0.352974</td>\n",
       "      <td>-0.998752</td>\n",
       "      <td>...</td>\n",
       "      <td>-1.078089</td>\n",
       "      <td>0.373926</td>\n",
       "      <td>-1.206361</td>\n",
       "      <td>-0.260878</td>\n",
       "      <td>-0.173740</td>\n",
       "      <td>-0.601663</td>\n",
       "      <td>-0.529976</td>\n",
       "      <td>-0.525351</td>\n",
       "      <td>-0.711863</td>\n",
       "      <td>1.839576</td>\n",
       "    </tr>\n",
       "    <tr>\n",
       "      <th>2</th>\n",
       "      <td>0.990658</td>\n",
       "      <td>-0.440327</td>\n",
       "      <td>-0.965608</td>\n",
       "      <td>-0.652305</td>\n",
       "      <td>-1.239504</td>\n",
       "      <td>0.327189</td>\n",
       "      <td>-0.938260</td>\n",
       "      <td>-0.287852</td>\n",
       "      <td>0.352974</td>\n",
       "      <td>0.286376</td>\n",
       "      <td>...</td>\n",
       "      <td>-1.078089</td>\n",
       "      <td>-0.826735</td>\n",
       "      <td>0.828939</td>\n",
       "      <td>-0.363923</td>\n",
       "      <td>-0.959649</td>\n",
       "      <td>1.662059</td>\n",
       "      <td>-0.529976</td>\n",
       "      <td>-0.525351</td>\n",
       "      <td>-0.711863</td>\n",
       "      <td>1.839576</td>\n",
       "    </tr>\n",
       "    <tr>\n",
       "      <th>3</th>\n",
       "      <td>0.990658</td>\n",
       "      <td>-0.440327</td>\n",
       "      <td>-0.965608</td>\n",
       "      <td>-0.652305</td>\n",
       "      <td>0.512486</td>\n",
       "      <td>-3.056334</td>\n",
       "      <td>2.111355</td>\n",
       "      <td>-0.287852</td>\n",
       "      <td>0.352974</td>\n",
       "      <td>-0.998752</td>\n",
       "      <td>...</td>\n",
       "      <td>-1.078089</td>\n",
       "      <td>0.373926</td>\n",
       "      <td>-1.206361</td>\n",
       "      <td>-0.747850</td>\n",
       "      <td>-0.195248</td>\n",
       "      <td>-0.601663</td>\n",
       "      <td>1.886879</td>\n",
       "      <td>-0.525351</td>\n",
       "      <td>-0.711863</td>\n",
       "      <td>-0.543604</td>\n",
       "    </tr>\n",
       "    <tr>\n",
       "      <th>4</th>\n",
       "      <td>-1.009430</td>\n",
       "      <td>-0.440327</td>\n",
       "      <td>-0.965608</td>\n",
       "      <td>-0.652305</td>\n",
       "      <td>-1.239504</td>\n",
       "      <td>0.327189</td>\n",
       "      <td>-0.938260</td>\n",
       "      <td>0.996525</td>\n",
       "      <td>-0.902520</td>\n",
       "      <td>-0.998752</td>\n",
       "      <td>...</td>\n",
       "      <td>-1.078089</td>\n",
       "      <td>-0.826735</td>\n",
       "      <td>0.828939</td>\n",
       "      <td>0.196178</td>\n",
       "      <td>-0.940457</td>\n",
       "      <td>1.662059</td>\n",
       "      <td>-0.529976</td>\n",
       "      <td>-0.525351</td>\n",
       "      <td>1.404764</td>\n",
       "      <td>-0.543604</td>\n",
       "    </tr>\n",
       "  </tbody>\n",
       "</table>\n",
       "<p>5 rows × 23 columns</p>\n",
       "</div>"
      ],
      "text/plain": [
       "         0         1         2         3         4         5         6   \\\n",
       "0 -1.009430 -0.440327  1.035617 -0.652305 -1.280248 -3.056334  2.111355   \n",
       "1  0.990658 -0.440327 -0.965608 -0.652305  0.064303  0.327189 -0.938260   \n",
       "2  0.990658 -0.440327 -0.965608 -0.652305 -1.239504  0.327189 -0.938260   \n",
       "3  0.990658 -0.440327 -0.965608 -0.652305  0.512486 -3.056334  2.111355   \n",
       "4 -1.009430 -0.440327 -0.965608 -0.652305 -1.239504  0.327189 -0.938260   \n",
       "\n",
       "         7         8         9     ...           13        14        15  \\\n",
       "0 -0.287852 -0.902520  0.286376    ...    -1.078089 -0.826735  0.828939   \n",
       "1 -0.287852  0.352974 -0.998752    ...    -1.078089  0.373926 -1.206361   \n",
       "2 -0.287852  0.352974  0.286376    ...    -1.078089 -0.826735  0.828939   \n",
       "3 -0.287852  0.352974 -0.998752    ...    -1.078089  0.373926 -1.206361   \n",
       "4  0.996525 -0.902520 -0.998752    ...    -1.078089 -0.826735  0.828939   \n",
       "\n",
       "         16        17        18        19        20        21        22  \n",
       "0 -1.161694 -0.994194 -0.601663 -0.529976 -0.525351  1.404764 -0.543604  \n",
       "1 -0.260878 -0.173740 -0.601663 -0.529976 -0.525351 -0.711863  1.839576  \n",
       "2 -0.363923 -0.959649  1.662059 -0.529976 -0.525351 -0.711863  1.839576  \n",
       "3 -0.747850 -0.195248 -0.601663  1.886879 -0.525351 -0.711863 -0.543604  \n",
       "4  0.196178 -0.940457  1.662059 -0.529976 -0.525351  1.404764 -0.543604  \n",
       "\n",
       "[5 rows x 23 columns]"
      ]
     },
     "execution_count": 20,
     "metadata": {},
     "output_type": "execute_result"
    }
   ],
   "source": [
    "scaler = StandardScaler()\n",
    "scaled_df = pd.DataFrame(scaler.fit_transform(df))\n",
    "scaled_df.head()"
   ]
  },
  {
   "cell_type": "code",
   "execution_count": 21,
   "metadata": {},
   "outputs": [
    {
     "name": "stdout",
     "output_type": "stream",
     "text": [
      "(7032, 22) (7032,)\n"
     ]
    }
   ],
   "source": [
    "features = df.drop(columns='Churn')\n",
    "target = df.Churn\n",
    "print(features.shape, target.shape)"
   ]
  },
  {
   "cell_type": "code",
   "execution_count": 22,
   "metadata": {},
   "outputs": [
    {
     "data": {
      "text/plain": [
       "((5274, 22), (1758, 22), (5274,), (1758,))"
      ]
     },
     "execution_count": 22,
     "metadata": {},
     "output_type": "execute_result"
    }
   ],
   "source": [
    "X_train, X_test, y_train, y_test = train_test_split(features, target, random_state=25)\n",
    "X_train.shape, X_test.shape, y_train.shape, y_test.shape"
   ]
  },
  {
   "cell_type": "code",
   "execution_count": 23,
   "metadata": {},
   "outputs": [
    {
     "data": {
      "text/plain": [
       "DecisionTreeClassifier(class_weight=None, criterion='gini', max_depth=None,\n",
       "            max_features=None, max_leaf_nodes=None,\n",
       "            min_impurity_decrease=0.0, min_impurity_split=None,\n",
       "            min_samples_leaf=1, min_samples_split=2,\n",
       "            min_weight_fraction_leaf=0.0, presort=False, random_state=None,\n",
       "            splitter='best')"
      ]
     },
     "execution_count": 23,
     "metadata": {},
     "output_type": "execute_result"
    }
   ],
   "source": [
    "dt = DecisionTreeClassifier()\n",
    "dt.fit(X_train, y_train)"
   ]
  },
  {
   "cell_type": "code",
   "execution_count": 24,
   "metadata": {},
   "outputs": [
    {
     "data": {
      "text/plain": [
       "array([[1074,  230],\n",
       "       [ 265,  189]])"
      ]
     },
     "execution_count": 24,
     "metadata": {},
     "output_type": "execute_result"
    }
   ],
   "source": [
    "y_pred = dt.predict(X_test)\n",
    "confusion_matrix(y_test, y_pred)"
   ]
  },
  {
   "cell_type": "code",
   "execution_count": 25,
   "metadata": {},
   "outputs": [
    {
     "data": {
      "text/plain": [
       "array([[3859,    0],\n",
       "       [  12, 1403]])"
      ]
     },
     "execution_count": 25,
     "metadata": {},
     "output_type": "execute_result"
    }
   ],
   "source": [
    "train_pred = dt.predict(X_train)\n",
    "confusion_matrix(y_train, train_pred)"
   ]
  },
  {
   "cell_type": "code",
   "execution_count": 26,
   "metadata": {},
   "outputs": [
    {
     "data": {
      "text/plain": [
       "0.43298969072164956"
      ]
     },
     "execution_count": 26,
     "metadata": {},
     "output_type": "execute_result"
    }
   ],
   "source": [
    "f1_score(y_test, y_pred)"
   ]
  },
  {
   "cell_type": "code",
   "execution_count": 27,
   "metadata": {},
   "outputs": [
    {
     "data": {
      "text/plain": [
       "0.7184300341296929"
      ]
     },
     "execution_count": 27,
     "metadata": {},
     "output_type": "execute_result"
    }
   ],
   "source": [
    "accuracy_score(y_test, y_pred)"
   ]
  },
  {
   "cell_type": "code",
   "execution_count": 28,
   "metadata": {},
   "outputs": [
    {
     "data": {
      "text/plain": [
       "0.41629955947136565"
      ]
     },
     "execution_count": 28,
     "metadata": {},
     "output_type": "execute_result"
    }
   ],
   "source": [
    "recall_score(y_test, y_pred)"
   ]
  },
  {
   "cell_type": "code",
   "execution_count": 29,
   "metadata": {},
   "outputs": [
    {
     "data": {
      "text/plain": [
       "0.4510739856801909"
      ]
     },
     "execution_count": 29,
     "metadata": {},
     "output_type": "execute_result"
    }
   ],
   "source": [
    "precision_score(y_test, y_pred)"
   ]
  },
  {
   "cell_type": "code",
   "execution_count": 30,
   "metadata": {},
   "outputs": [
    {
     "name": "stdout",
     "output_type": "stream",
     "text": [
      "              precision    recall  f1-score   support\n",
      "\n",
      "           0       0.80      0.82      0.81      1304\n",
      "           1       0.45      0.42      0.43       454\n",
      "\n",
      "   micro avg       0.72      0.72      0.72      1758\n",
      "   macro avg       0.63      0.62      0.62      1758\n",
      "weighted avg       0.71      0.72      0.71      1758\n",
      "\n"
     ]
    }
   ],
   "source": [
    "print(classification_report(y_test, y_pred))"
   ]
  },
  {
   "cell_type": "code",
   "execution_count": 31,
   "metadata": {},
   "outputs": [],
   "source": [
    "def plot_feature_importances(model, figsize=(12,12)):\n",
    "    \n",
    "    \"\"\"Visualize feature importance of selected model as determined by feature_importances_ method.\"\"\"\n",
    "    \n",
    "    n_features = X_train.shape[1]\n",
    "    plt.figure(figsize=figsize)\n",
    "    plt.barh(range(n_features), model.feature_importances_, align='center') \n",
    "    plt.yticks(np.arange(n_features), X_train.columns.values) \n",
    "    plt.xlabel(\"Feature Importance\")\n",
    "    plt.ylabel(\"Feature\")"
   ]
  },
  {
   "cell_type": "code",
   "execution_count": 32,
   "metadata": {},
   "outputs": [
    {
     "data": {
      "image/png": "[encoded data removed]",
      "text/plain": [
       "<Figure size 864x864 with 1 Axes>"
      ]
     },
     "metadata": {
      "needs_background": "light"
     },
     "output_type": "display_data"
    }
   ],
   "source": [
    "plot_feature_importances(dt)"
   ]
  },
  {
   "cell_type": "code",
   "execution_count": 33,
   "metadata": {},
   "outputs": [
    {
     "data": {
      "text/plain": [
       "RandomForestClassifier(bootstrap=True, class_weight=None, criterion='gini',\n",
       "            max_depth=None, max_features='auto', max_leaf_nodes=None,\n",
       "            min_impurity_decrease=0.0, min_impurity_split=None,\n",
       "            min_samples_leaf=1, min_samples_split=2,\n",
       "            min_weight_fraction_leaf=0.0, n_estimators=10, n_jobs=None,\n",
       "            oob_score=False, random_state=None, verbose=0,\n",
       "            warm_start=False)"
      ]
     },
     "execution_count": 33,
     "metadata": {},
     "output_type": "execute_result"
    }
   ],
   "source": [
    "rf = RandomForestClassifier()\n",
    "rf.fit(X_train, y_train)"
   ]
  },
  {
   "cell_type": "code",
   "execution_count": 34,
   "metadata": {},
   "outputs": [
    {
     "data": {
      "text/plain": [
       "array([[1170,  134],\n",
       "       [ 255,  199]])"
      ]
     },
     "execution_count": 34,
     "metadata": {},
     "output_type": "execute_result"
    }
   ],
   "source": [
    "y_pred_rf = rf.predict(X_test)\n",
    "confusion_matrix(y_test, y_pred_rf)"
   ]
  },
  {
   "cell_type": "code",
   "execution_count": 35,
   "metadata": {
    "scrolled": false
   },
   "outputs": [
    {
     "data": {
      "image/png": "[encoded data removed]",
      "text/plain": [
       "<Figure size 864x864 with 1 Axes>"
      ]
     },
     "metadata": {
      "needs_background": "light"
     },
     "output_type": "display_data"
    }
   ],
   "source": [
    "plot_feature_importances(rf)"
   ]
  },
  {
   "cell_type": "code",
   "execution_count": 36,
   "metadata": {},
   "outputs": [
    {
     "data": {
      "text/plain": [
       "0.7787258248009101"
      ]
     },
     "execution_count": 36,
     "metadata": {},
     "output_type": "execute_result"
    }
   ],
   "source": [
    "accuracy_score(y_test, y_pred_rf)"
   ]
  },
  {
   "cell_type": "code",
   "execution_count": 37,
   "metadata": {},
   "outputs": [
    {
     "data": {
      "image/png": "[encoded data removed]",
      "text/plain": [
       "<Figure size 720x576 with 1 Axes>"
      ]
     },
     "metadata": {
      "needs_background": "light"
     },
     "output_type": "display_data"
    }
   ],
   "source": [
    "# Visualize effect of different max_depths on AUC scores\n",
    "\n",
    "max_depths = np.linspace(1,22,22,endpoint=True)\n",
    "train_auc = []\n",
    "test_auc = []\n",
    "\n",
    "for depth in max_depths:\n",
    "    \n",
    "    clf = RandomForestClassifier(max_depth=depth)\n",
    "    clf.fit(X_train, y_train)\n",
    "    train_pred = clf.predict(X_train)\n",
    "    fpr, tpr, thresh = roc_curve(y_train, train_pred)\n",
    "    roc_auc = auc(fpr, tpr)\n",
    "    train_auc.append(roc_auc)\n",
    "    \n",
    "    test_pred = clf.predict(X_test)\n",
    "    fpr, tpr, thresh = roc_curve(y_test, test_pred)\n",
    "    roc_auc = auc(fpr, tpr)\n",
    "    test_auc.append(roc_auc)\n",
    "\n",
    "plt.figure(figsize=(10,8))\n",
    "plt.plot(max_depths, train_auc, label='Train AUC')\n",
    "plt.plot(max_depths, test_auc, label='Test AUC')\n",
    "plt.xlabel('Tree Depth')\n",
    "plt.ylabel('AUC Scores')\n",
    "plt.legend(loc='best')\n",
    "plt.show();"
   ]
  },
  {
   "cell_type": "code",
   "execution_count": 38,
   "metadata": {},
   "outputs": [
    {
     "data": {
      "image/png": "[encoded data removed]",
      "text/plain": [
       "<Figure size 864x432 with 1 Axes>"
      ]
     },
     "metadata": {
      "needs_background": "light"
     },
     "output_type": "display_data"
    }
   ],
   "source": [
    "# Identify the optimal tree depth for given data\n",
    "min_samples_splits = np.linspace(0.1, 1.0, 10, endpoint=True)\n",
    "train_results = []\n",
    "test_results = []\n",
    "for min_samples_split in min_samples_splits:\n",
    "    dt = RandomForestClassifier(min_samples_split=min_samples_split)\n",
    "    dt.fit(X_train, y_train)\n",
    "    train_pred = dt.predict(X_train)\n",
    "    false_positive_rate, true_positive_rate, thresholds = roc_curve(y_train, train_pred)\n",
    "    roc_auc = auc(false_positive_rate, true_positive_rate)\n",
    "    # Add auc score to previous train results\n",
    "    train_results.append(roc_auc)\n",
    "    y_pred = dt.predict(X_test)\n",
    "    false_positive_rate, true_positive_rate, thresholds = roc_curve(y_test, y_pred)\n",
    "    roc_auc = auc(false_positive_rate, true_positive_rate)\n",
    "    # Add auc score to previous test results\n",
    "    test_results.append(roc_auc)\n",
    "plt.figure(figsize=(12,6))\n",
    "plt.plot(min_samples_splits, train_results, 'b', label='Train AUC')\n",
    "plt.plot(min_samples_splits, test_results, 'r', label='Test AUC')\n",
    "plt.xlabel('Min. Sample splits')\n",
    "plt.legend()\n",
    "plt.show()"
   ]
  },
  {
   "cell_type": "code",
   "execution_count": 39,
   "metadata": {},
   "outputs": [
    {
     "data": {
      "image/png": "[encoded data removed]",
      "text/plain": [
       "<Figure size 864x432 with 1 Axes>"
      ]
     },
     "metadata": {
      "needs_background": "light"
     },
     "output_type": "display_data"
    }
   ],
   "source": [
    "min_samples_leafs = np.linspace(0.0001, 0.0005, 5, endpoint=True)\n",
    "train_results = []\n",
    "test_results = []\n",
    "for min_samples_leaf in min_samples_leafs:\n",
    "    dt = RandomForestClassifier(min_samples_leaf=min_samples_leaf)\n",
    "    dt.fit(X_train, y_train)\n",
    "    train_pred = dt.predict(X_train)\n",
    "    false_positive_rate, true_positive_rate, thresholds = roc_curve(y_train, train_pred)\n",
    "    roc_auc = auc(false_positive_rate, true_positive_rate)\n",
    "    train_results.append(roc_auc)\n",
    "    y_pred = dt.predict(X_test)\n",
    "    false_positive_rate, true_positive_rate, thresholds = roc_curve(y_test, y_pred)\n",
    "    roc_auc = auc(false_positive_rate, true_positive_rate)\n",
    "    test_results.append(roc_auc)\n",
    "    \n",
    "\n",
    "plt.figure(figsize=(12,6))    \n",
    "plt.plot(min_samples_leafs, train_results, 'b', label='Train AUC')\n",
    "plt.plot(min_samples_leafs, test_results, 'r', label='Test AUC')\n",
    "plt.ylabel('AUC score')\n",
    "plt.xlabel('Min. Sample Leafs')\n",
    "plt.legend()\n",
    "plt.show()    "
   ]
  },
  {
   "cell_type": "code",
   "execution_count": 40,
   "metadata": {},
   "outputs": [
    {
     "data": {
      "image/png": "[encoded data removed]",
      "text/plain": [
       "<Figure size 864x432 with 1 Axes>"
      ]
     },
     "metadata": {
      "needs_background": "light"
     },
     "output_type": "display_data"
    }
   ],
   "source": [
    "# Find the best value for optimal maximum feature size\n",
    "max_features = list(range(1,X_train.shape[1]))\n",
    "train_results = []\n",
    "test_results = []\n",
    "for max_feature in max_features:\n",
    "    dt = RandomForestClassifier(max_features=max_feature)\n",
    "    dt.fit(X_train, y_train)\n",
    "    train_pred = dt.predict(X_train)\n",
    "    false_positive_rate, true_positive_rate, thresholds = roc_curve(y_train, train_pred)\n",
    "    roc_auc = auc(false_positive_rate, true_positive_rate)\n",
    "    train_results.append(roc_auc)\n",
    "    y_pred = dt.predict(X_test)\n",
    "    false_positive_rate, true_positive_rate, thresholds = roc_curve(y_test, y_pred)\n",
    "    roc_auc = auc(false_positive_rate, true_positive_rate)\n",
    "    test_results.append(roc_auc)\n",
    "\n",
    "    \n",
    "plt.figure(figsize=(12,6))\n",
    "plt.plot(max_features, train_results, 'b', label='Train AUC')\n",
    "plt.plot(max_features, test_results, 'r', label='Test AUC')\n",
    "\n",
    "plt.ylabel('AUC score')\n",
    "plt.xlabel('max features')\n",
    "plt.legend()\n",
    "plt.show()    "
   ]
  },
  {
   "cell_type": "code",
   "execution_count": 41,
   "metadata": {},
   "outputs": [
    {
     "data": {
      "image/png": "[encoded data removed]",
      "text/plain": [
       "<Figure size 864x432 with 1 Axes>"
      ]
     },
     "metadata": {
      "needs_background": "light"
     },
     "output_type": "display_data"
    }
   ],
   "source": [
    "min_impurity_decreases = np.linspace(0.00001, 0.001, 10, endpoint=True)\n",
    "train_results = []\n",
    "test_results = []\n",
    "for min_impurity_decrease in min_impurity_decreases:\n",
    "    dt = RandomForestClassifier(min_impurity_decrease=min_impurity_decrease)\n",
    "    dt.fit(X_train, y_train)\n",
    "    train_pred = dt.predict(X_train)\n",
    "    false_positive_rate, true_positive_rate, thresholds = roc_curve(y_train, train_pred)\n",
    "    roc_auc = auc(false_positive_rate, true_positive_rate)\n",
    "    train_results.append(roc_auc)\n",
    "    y_pred = dt.predict(X_test)\n",
    "    false_positive_rate, true_positive_rate, thresholds = roc_curve(y_test, y_pred)\n",
    "    roc_auc = auc(false_positive_rate, true_positive_rate)\n",
    "    test_results.append(roc_auc)\n",
    "    \n",
    "\n",
    "plt.figure(figsize=(12,6))    \n",
    "plt.plot(min_impurity_decreases, train_results, 'b', label='Train AUC')\n",
    "plt.plot(min_impurity_decreases, test_results, 'r', label='Test AUC')\n",
    "plt.ylabel('AUC score')\n",
    "plt.xlabel('Min. Impurity Decrease')\n",
    "plt.legend()\n",
    "plt.show()    "
   ]
  },
  {
   "cell_type": "code",
   "execution_count": 42,
   "metadata": {},
   "outputs": [
    {
     "data": {
      "text/plain": [
       "0.599819937298992"
      ]
     },
     "execution_count": 42,
     "metadata": {},
     "output_type": "execute_result"
    }
   ],
   "source": [
    "# train a classifier with optimal values identified above\n",
    "dt = RandomForestClassifier(max_depth=7,\n",
    "                           min_samples_split=0.2,\n",
    "                           min_samples_leaf=0.0002,\n",
    "                           min_impurity_decrease=0.0005)\n",
    "dt.fit(X_train, y_train)\n",
    "y_pred = dt.predict(X_test)\n",
    "false_positive_rate, true_positive_rate, thresholds = roc_curve(y_test, y_pred)\n",
    "roc_auc = auc(false_positive_rate, true_positive_rate)\n",
    "roc_auc"
   ]
  },
  {
   "cell_type": "code",
   "execution_count": 43,
   "metadata": {},
   "outputs": [
    {
     "data": {
      "text/plain": [
       "0.7758816837315131"
      ]
     },
     "execution_count": 43,
     "metadata": {},
     "output_type": "execute_result"
    }
   ],
   "source": [
    "accuracy_score(y_test, y_pred)"
   ]
  },
  {
   "cell_type": "code",
   "execution_count": 44,
   "metadata": {},
   "outputs": [
    {
     "data": {
      "text/plain": [
       "0.2356828193832599"
      ]
     },
     "execution_count": 44,
     "metadata": {},
     "output_type": "execute_result"
    }
   ],
   "source": [
    "recall_score(y_test, y_pred)"
   ]
  },
  {
   "cell_type": "code",
   "execution_count": 45,
   "metadata": {
    "scrolled": true
   },
   "outputs": [
    {
     "name": "stdout",
     "output_type": "stream",
     "text": [
      "[[1257   47]\n",
      " [ 347  107]]\n"
     ]
    },
    {
     "data": {
      "text/plain": [
       "<matplotlib.axes._subplots.AxesSubplot at 0x1a1b6cf240>"
      ]
     },
     "execution_count": 45,
     "metadata": {},
     "output_type": "execute_result"
    },
    {
     "data": {
      "image/png": "[encoded data removed]",
      "text/plain": [
       "<Figure size 432x288 with 2 Axes>"
      ]
     },
     "metadata": {
      "needs_background": "light"
     },
     "output_type": "display_data"
    }
   ],
   "source": [
    "print(confusion_matrix(y_test, y_pred))\n",
    "sns.heatmap(confusion_matrix(y_test, y_pred), cmap='Blues')"
   ]
  },
  {
   "cell_type": "code",
   "execution_count": 46,
   "metadata": {},
   "outputs": [
    {
     "data": {
      "text/plain": [
       "DecisionTreeClassifier(class_weight='balanced', criterion='gini',\n",
       "            max_depth=None, max_features=None, max_leaf_nodes=None,\n",
       "            min_impurity_decrease=0.0, min_impurity_split=None,\n",
       "            min_samples_leaf=1, min_samples_split=2,\n",
       "            min_weight_fraction_leaf=0.0, presort=False, random_state=25,\n",
       "            splitter='best')"
      ]
     },
     "execution_count": 46,
     "metadata": {},
     "output_type": "execute_result"
    }
   ],
   "source": [
    "dt = DecisionTreeClassifier(random_state=25, class_weight='balanced')\n",
    "dt.fit(X_train, y_train)"
   ]
  },
  {
   "cell_type": "code",
   "execution_count": 47,
   "metadata": {},
   "outputs": [],
   "source": [
    "dt_train_preds = dt.predict(X_train)\n",
    "dt_test_preds = dt.predict(X_test)"
   ]
  },
  {
   "cell_type": "code",
   "execution_count": 48,
   "metadata": {},
   "outputs": [],
   "source": [
    "def print_metrics(y_train, y_test, y_train_preds, y_test_preds):\n",
    "    print('Train Set Classification Report')\n",
    "    print(classification_report(y_train, y_train_preds))\n",
    "    print('*'*50)\n",
    "    print('Test Set Classification Report')\n",
    "    print(classification_report(y_test, y_test_preds))\n",
    "    print('*'*50)\n",
    "    print('Train Set Confusion Matrix')\n",
    "    print(confusion_matrix(y_train, y_train_preds))\n",
    "    print('*'*50)\n",
    "    print('Test Set Confusion Matrix')\n",
    "    print(confusion_matrix(y_test, y_test_preds))\n",
    "    print('*'*50)\n",
    "    print('Train Set Accuracy Score')\n",
    "    print(accuracy_score(y_train, y_train_preds))\n",
    "    print('*'*50)\n",
    "    print('Test Set Accuracy Score')\n",
    "    print(accuracy_score(y_test, y_test_preds))"
   ]
  },
  {
   "cell_type": "code",
   "execution_count": 49,
   "metadata": {},
   "outputs": [
    {
     "name": "stdout",
     "output_type": "stream",
     "text": [
      "Train Set Classification Report\n",
      "              precision    recall  f1-score   support\n",
      "\n",
      "           0       1.00      1.00      1.00      3859\n",
      "           1       0.99      1.00      1.00      1415\n",
      "\n",
      "   micro avg       1.00      1.00      1.00      5274\n",
      "   macro avg       1.00      1.00      1.00      5274\n",
      "weighted avg       1.00      1.00      1.00      5274\n",
      "\n",
      "**************************************************\n",
      "Test Set Classification Report\n",
      "              precision    recall  f1-score   support\n",
      "\n",
      "           0       0.81      0.83      0.82      1304\n",
      "           1       0.48      0.46      0.47       454\n",
      "\n",
      "   micro avg       0.73      0.73      0.73      1758\n",
      "   macro avg       0.65      0.64      0.64      1758\n",
      "weighted avg       0.73      0.73      0.73      1758\n",
      "\n",
      "**************************************************\n",
      "Train Set Confusion Matrix\n",
      "[[3846   13]\n",
      " [   0 1415]]\n",
      "**************************************************\n",
      "Test Set Confusion Matrix\n",
      "[[1076  228]\n",
      " [ 246  208]]\n",
      "**************************************************\n",
      "Train Set Accuracy Score\n",
      "0.997535077739856\n",
      "**************************************************\n",
      "Test Set Accuracy Score\n",
      "0.7303754266211604\n"
     ]
    }
   ],
   "source": [
    "print_metrics(y_train, y_test, dt_train_preds, dt_test_preds)"
   ]
  },
  {
   "cell_type": "code",
   "execution_count": 50,
   "metadata": {},
   "outputs": [
    {
     "data": {
      "text/plain": [
       "RandomForestClassifier(bootstrap=True, class_weight='balanced',\n",
       "            criterion='gini', max_depth=None, max_features='auto',\n",
       "            max_leaf_nodes=None, min_impurity_decrease=0.0,\n",
       "            min_impurity_split=None, min_samples_leaf=1,\n",
       "            min_samples_split=2, min_weight_fraction_leaf=0.0,\n",
       "            n_estimators=10, n_jobs=None, oob_score=False, random_state=25,\n",
       "            verbose=0, warm_start=False)"
      ]
     },
     "execution_count": 50,
     "metadata": {},
     "output_type": "execute_result"
    }
   ],
   "source": [
    "rf = RandomForestClassifier(random_state=25, class_weight='balanced')\n",
    "rf.fit(X_train, y_train)"
   ]
  },
  {
   "cell_type": "code",
   "execution_count": 51,
   "metadata": {},
   "outputs": [],
   "source": [
    "rf_train_preds = rf.predict(X_train)\n",
    "rf_test_preds = rf.predict(X_test)"
   ]
  },
  {
   "cell_type": "code",
   "execution_count": 52,
   "metadata": {},
   "outputs": [
    {
     "name": "stdout",
     "output_type": "stream",
     "text": [
      "Train Set Classification Report\n",
      "              precision    recall  f1-score   support\n",
      "\n",
      "           0       0.98      1.00      0.99      3859\n",
      "           1       0.99      0.94      0.96      1415\n",
      "\n",
      "   micro avg       0.98      0.98      0.98      5274\n",
      "   macro avg       0.98      0.97      0.97      5274\n",
      "weighted avg       0.98      0.98      0.98      5274\n",
      "\n",
      "**************************************************\n",
      "Test Set Classification Report\n",
      "              precision    recall  f1-score   support\n",
      "\n",
      "           0       0.81      0.89      0.85      1304\n",
      "           1       0.56      0.40      0.47       454\n",
      "\n",
      "   micro avg       0.76      0.76      0.76      1758\n",
      "   macro avg       0.68      0.65      0.66      1758\n",
      "weighted avg       0.75      0.76      0.75      1758\n",
      "\n",
      "**************************************************\n",
      "Train Set Confusion Matrix\n",
      "[[3847   12]\n",
      " [  90 1325]]\n",
      "**************************************************\n",
      "Test Set Confusion Matrix\n",
      "[[1160  144]\n",
      " [ 272  182]]\n",
      "**************************************************\n",
      "Train Set Accuracy Score\n",
      "0.9806598407281001\n",
      "**************************************************\n",
      "Test Set Accuracy Score\n",
      "0.7633674630261661\n"
     ]
    }
   ],
   "source": [
    "print_metrics(y_train, y_test, rf_train_preds, rf_test_preds)"
   ]
  },
  {
   "cell_type": "code",
   "execution_count": 53,
   "metadata": {},
   "outputs": [],
   "source": [
    "def custom_predict(clf, X_test, thresh=0.35):\n",
    "    y_preds = clf.predict_proba(X_test)\n",
    "    classes = []\n",
    "    for pred in y_preds:\n",
    "        if pred[1] >= thresh:\n",
    "            classes.append(1)\n",
    "        else:\n",
    "            classes.append(0)\n",
    "    return np.array(classes)"
   ]
  },
  {
   "cell_type": "code",
   "execution_count": 54,
   "metadata": {},
   "outputs": [],
   "source": [
    "rf_custom_y_preds = custom_predict(rf, X_test)"
   ]
  },
  {
   "cell_type": "code",
   "execution_count": 55,
   "metadata": {},
   "outputs": [
    {
     "name": "stdout",
     "output_type": "stream",
     "text": [
      "Train Set Classification Report\n",
      "              precision    recall  f1-score   support\n",
      "\n",
      "           0       0.98      1.00      0.99      3859\n",
      "           1       0.99      0.94      0.96      1415\n",
      "\n",
      "   micro avg       0.98      0.98      0.98      5274\n",
      "   macro avg       0.98      0.97      0.97      5274\n",
      "weighted avg       0.98      0.98      0.98      5274\n",
      "\n",
      "**************************************************\n",
      "Test Set Classification Report\n",
      "              precision    recall  f1-score   support\n",
      "\n",
      "           0       0.85      0.78      0.82      1304\n",
      "           1       0.49      0.61      0.55       454\n",
      "\n",
      "   micro avg       0.74      0.74      0.74      1758\n",
      "   macro avg       0.67      0.70      0.68      1758\n",
      "weighted avg       0.76      0.74      0.75      1758\n",
      "\n",
      "**************************************************\n",
      "Train Set Confusion Matrix\n",
      "[[3847   12]\n",
      " [  90 1325]]\n",
      "**************************************************\n",
      "Test Set Confusion Matrix\n",
      "[[1019  285]\n",
      " [ 177  277]]\n",
      "**************************************************\n",
      "Train Set Accuracy Score\n",
      "0.9806598407281001\n",
      "**************************************************\n",
      "Test Set Accuracy Score\n",
      "0.7372013651877133\n"
     ]
    }
   ],
   "source": [
    "print_metrics(y_train, y_test, rf_train_preds, rf_custom_y_preds)"
   ]
  },
  {
   "cell_type": "code",
   "execution_count": 56,
   "metadata": {},
   "outputs": [
    {
     "data": {
      "image/png": "[encoded data removed]",
      "text/plain": [
       "<Figure size 864x864 with 1 Axes>"
      ]
     },
     "metadata": {
      "needs_background": "light"
     },
     "output_type": "display_data"
    }
   ],
   "source": [
    "plot_feature_importances(rf)"
   ]
  },
  {
   "cell_type": "code",
   "execution_count": 57,
   "metadata": {},
   "outputs": [
    {
     "name": "stdout",
     "output_type": "stream",
     "text": [
      "GridSearch will search through 18000 different permutations.\n"
     ]
    }
   ],
   "source": [
    "rf_param_grid = {\n",
    "    'n_estimators': [5, 10, 15, 20, 35, 50],\n",
    "    'criterion': ['gini', 'entropy'],\n",
    "    'max_depth': [None, 5, 10, 15],\n",
    "    'min_samples_split': [0.1, 0.2, 0.3, 0.4, 0.5],\n",
    "    'min_samples_leaf': [0.1, 0.2, 0.3, 0.4, 0.5],\n",
    "    'class_weight': [None, 'balanced', 'balanced_subsample'],\n",
    "    'min_impurity_decrease': [0, 0.1, 0.001, 0.0001, 0.00001]\n",
    "}\n",
    "\n",
    "num_perm = 6 * 2 * 4 * 5 * 5 * 3 * 5\n",
    "print(f'GridSearch will search through {num_perm} different permutations.')"
   ]
  },
  {
   "cell_type": "code",
   "execution_count": 58,
   "metadata": {},
   "outputs": [],
   "source": [
    "import time\n",
    "# start_time = time.time()\n",
    "\n",
    "# rf_grid_search = GridSearchCV(rf, rf_param_grid, scoring='recall', cv=3)\n",
    "# rf_grid_search.fit(scaled_df, y)\n",
    "\n",
    "# print(f'Best Score: {rf_grid_search.best_score_ * 100}%')\n",
    "# print(f'Total Runtime: {time.time() - start_time} seconds')\n",
    "# print('')\n",
    "# print(f'Optimal Parameters: {rf_grid_search.best_params_}')"
   ]
  },
  {
   "cell_type": "markdown",
   "metadata": {},
   "source": [
    "Best Score: 91.22525414660247%\n",
    "Total Runtime: 2019.1292400360107 seconds\n",
    "\n",
    "Optimal Parameters: {'class_weight': 'balanced_subsample', 'criterion': 'entropy', 'max_depth': None, 'min_impurity_decrease': 0.1, 'min_samples_leaf': 0.3, 'min_samples_split': 0.1, 'n_estimators': 5}\n",
    "\n",
    "#### Results of Random Forest GridSearch\n",
    "- class_weight: balanced_subsample\n",
    "- criterion: entropy\n",
    "- max_depth: None (Default)\n",
    "- min_impurity_decrease: 0.1\n",
    "- min_samples_leaf: 0.3\n",
    "- min_samples_split: 0.1\n",
    "- n_estimators: 5"
   ]
  },
  {
   "cell_type": "code",
   "execution_count": 59,
   "metadata": {
    "scrolled": true
   },
   "outputs": [],
   "source": [
    "# start_time = time.time()\n",
    "\n",
    "# rf_grid_search = GridSearchCV(rf, rf_param_grid, scoring=make_scorer(f1_score), cv=3, verbose=True)\n",
    "# rf_grid_search.fit(features, target)\n",
    "\n",
    "# print(f'Best Score: {rf_grid_search.best_score_ * 100}%')\n",
    "# print(f'Total Runtime: {time.time() - start_time} seconds')\n",
    "# print('')\n",
    "# print(f'Optimal Parameters: {rf_grid_search.best_params_}')"
   ]
  },
  {
   "cell_type": "markdown",
   "metadata": {},
   "source": [
    "Fitting 3 folds for each of 18000 candidates, totalling 54000 fits\n",
    "\n",
    "Best Score: 61.65604928102627%\n",
    "\n",
    "Total Runtime: 2799.2034039497375 seconds\n",
    "\n",
    "Optimal Parameters: {'class_weight': 'balanced', 'criterion': 'entropy', 'max_depth': None, 'min_impurity_decrease': 0.0001, 'min_samples_leaf': 0.1, 'min_samples_split': 0.1, 'n_estimators': 35}"
   ]
  },
  {
   "cell_type": "code",
   "execution_count": 60,
   "metadata": {},
   "outputs": [
    {
     "data": {
      "text/plain": [
       "RandomForestClassifier(bootstrap=True, class_weight='balanced',\n",
       "            criterion='entropy', max_depth=None, max_features='auto',\n",
       "            max_leaf_nodes=None, min_impurity_decrease=0.001,\n",
       "            min_impurity_split=None, min_samples_leaf=0.1,\n",
       "            min_samples_split=0.1, min_weight_fraction_leaf=0.0,\n",
       "            n_estimators=35, n_jobs=None, oob_score=False,\n",
       "            random_state=None, verbose=0, warm_start=False)"
      ]
     },
     "execution_count": 60,
     "metadata": {},
     "output_type": "execute_result"
    }
   ],
   "source": [
    "f1_optimized_rf = RandomForestClassifier(class_weight='balanced', criterion='entropy', max_depth=None, \n",
    "                                         min_impurity_decrease=0.001, min_samples_leaf=0.1, min_samples_split=0.1,\n",
    "                                         n_estimators=35)\n",
    "f1_optimized_rf.fit(X_train, y_train)"
   ]
  },
  {
   "cell_type": "code",
   "execution_count": 61,
   "metadata": {},
   "outputs": [],
   "source": [
    "f1_op_rf_train_preds = f1_optimized_rf.predict(X_train)\n",
    "f1_op_rf_test_preds = f1_optimized_rf.predict(X_test)"
   ]
  },
  {
   "cell_type": "code",
   "execution_count": 62,
   "metadata": {},
   "outputs": [
    {
     "name": "stdout",
     "output_type": "stream",
     "text": [
      "Train Set Classification Report\n",
      "              precision    recall  f1-score   support\n",
      "\n",
      "           0       0.91      0.70      0.79      3859\n",
      "           1       0.50      0.82      0.62      1415\n",
      "\n",
      "   micro avg       0.73      0.73      0.73      5274\n",
      "   macro avg       0.71      0.76      0.71      5274\n",
      "weighted avg       0.80      0.73      0.74      5274\n",
      "\n",
      "**************************************************\n",
      "Test Set Classification Report\n",
      "              precision    recall  f1-score   support\n",
      "\n",
      "           0       0.91      0.68      0.78      1304\n",
      "           1       0.47      0.81      0.59       454\n",
      "\n",
      "   micro avg       0.71      0.71      0.71      1758\n",
      "   macro avg       0.69      0.74      0.69      1758\n",
      "weighted avg       0.80      0.71      0.73      1758\n",
      "\n",
      "**************************************************\n",
      "Train Set Confusion Matrix\n",
      "[[2693 1166]\n",
      " [ 257 1158]]\n",
      "**************************************************\n",
      "Test Set Confusion Matrix\n",
      "[[890 414]\n",
      " [ 88 366]]\n",
      "**************************************************\n",
      "Train Set Accuracy Score\n",
      "0.730185817216534\n",
      "**************************************************\n",
      "Test Set Accuracy Score\n",
      "0.714448236632537\n"
     ]
    }
   ],
   "source": [
    "print_metrics(y_train, y_test, f1_op_rf_train_preds, f1_op_rf_test_preds)"
   ]
  },
  {
   "cell_type": "code",
   "execution_count": 63,
   "metadata": {},
   "outputs": [
    {
     "name": "stdout",
     "output_type": "stream",
     "text": [
      "Overall Test Recall Score: 0.8061674008810573\n"
     ]
    }
   ],
   "source": [
    "print(f'Overall Test Recall Score: {recall_score(y_test, f1_op_rf_test_preds)}')"
   ]
  },
  {
   "cell_type": "code",
   "execution_count": 64,
   "metadata": {},
   "outputs": [
    {
     "name": "stdout",
     "output_type": "stream",
     "text": [
      "Overall Test F1 Score: 0.5931928687196111\n"
     ]
    }
   ],
   "source": [
    "print(f'Overall Test F1 Score: {f1_score(y_test, f1_op_rf_test_preds)}')"
   ]
  },
  {
   "cell_type": "code",
   "execution_count": 65,
   "metadata": {},
   "outputs": [
    {
     "data": {
      "text/plain": [
       "RandomForestClassifier(bootstrap=True, class_weight='balanced_subsample',\n",
       "            criterion='entropy', max_depth=None, max_features='auto',\n",
       "            max_leaf_nodes=None, min_impurity_decrease=0.1,\n",
       "            min_impurity_split=None, min_samples_leaf=0.3,\n",
       "            min_samples_split=0.1, min_weight_fraction_leaf=0.0,\n",
       "            n_estimators=5, n_jobs=None, oob_score=False, random_state=25,\n",
       "            verbose=0, warm_start=False)"
      ]
     },
     "execution_count": 65,
     "metadata": {},
     "output_type": "execute_result"
    }
   ],
   "source": [
    "optimized_rf = RandomForestClassifier(class_weight='balanced_subsample', criterion='entropy', random_state=25, \\\n",
    "                                     min_impurity_decrease=0.1, min_samples_leaf=0.3, min_samples_split=0.1, \\\n",
    "                                     n_estimators=5)\n",
    "optimized_rf.fit(X_train, y_train)"
   ]
  },
  {
   "cell_type": "code",
   "execution_count": 66,
   "metadata": {},
   "outputs": [],
   "source": [
    "op_rf_train_preds = optimized_rf.predict(X_train)\n",
    "op_rf_test_preds = optimized_rf.predict(X_test)"
   ]
  },
  {
   "cell_type": "code",
   "execution_count": 67,
   "metadata": {},
   "outputs": [
    {
     "name": "stdout",
     "output_type": "stream",
     "text": [
      "Train Set Classification Report\n",
      "              precision    recall  f1-score   support\n",
      "\n",
      "           0       0.89      0.61      0.72      3859\n",
      "           1       0.42      0.79      0.55      1415\n",
      "\n",
      "   micro avg       0.66      0.66      0.66      5274\n",
      "   macro avg       0.65      0.70      0.64      5274\n",
      "weighted avg       0.76      0.66      0.68      5274\n",
      "\n",
      "**************************************************\n",
      "Test Set Classification Report\n",
      "              precision    recall  f1-score   support\n",
      "\n",
      "           0       0.88      0.60      0.71      1304\n",
      "           1       0.40      0.77      0.53       454\n",
      "\n",
      "   micro avg       0.64      0.64      0.64      1758\n",
      "   macro avg       0.64      0.68      0.62      1758\n",
      "weighted avg       0.76      0.64      0.66      1758\n",
      "\n",
      "**************************************************\n",
      "Train Set Confusion Matrix\n",
      "[[2346 1513]\n",
      " [ 303 1112]]\n",
      "**************************************************\n",
      "Test Set Confusion Matrix\n",
      "[[781 523]\n",
      " [105 349]]\n",
      "**************************************************\n",
      "Train Set Accuracy Score\n",
      "0.6556693211983314\n",
      "**************************************************\n",
      "Test Set Accuracy Score\n",
      "0.6427758816837316\n"
     ]
    }
   ],
   "source": [
    "print_metrics(y_train, y_test, op_rf_train_preds, op_rf_test_preds)"
   ]
  },
  {
   "cell_type": "code",
   "execution_count": 68,
   "metadata": {},
   "outputs": [
    {
     "name": "stdout",
     "output_type": "stream",
     "text": [
      "Overall Test Recall Score: 0.7687224669603524\n"
     ]
    }
   ],
   "source": [
    "print(f'Overall Test Recall Score: {recall_score(y_test, op_rf_test_preds)}')"
   ]
  },
  {
   "cell_type": "code",
   "execution_count": 69,
   "metadata": {},
   "outputs": [
    {
     "name": "stdout",
     "output_type": "stream",
     "text": [
      "Overall Test F1 Score: 0.526395173453997\n"
     ]
    }
   ],
   "source": [
    "print(f'Overall Test F1 Score: {f1_score(y_test, op_rf_test_preds)}')"
   ]
  },
  {
   "cell_type": "markdown",
   "metadata": {},
   "source": [
    "### Decision Tree Grid Search"
   ]
  },
  {
   "cell_type": "code",
   "execution_count": 70,
   "metadata": {},
   "outputs": [],
   "source": [
    "dt = DecisionTreeClassifier(random_state=25)"
   ]
  },
  {
   "cell_type": "code",
   "execution_count": 71,
   "metadata": {},
   "outputs": [
    {
     "name": "stdout",
     "output_type": "stream",
     "text": [
      "GridSearch will search through 324 different permutations.\n"
     ]
    }
   ],
   "source": [
    "dt_param_grid = {\n",
    "    'criterion': ['gini', 'entropy'],\n",
    "    'max_depth': [None, 5, 10],\n",
    "    'min_samples_split': [0.1, 0.3, 0.5],\n",
    "    'min_samples_leaf': [0.1, 0.3, 0.5],\n",
    "    'class_weight': [None, 'balanced'],\n",
    "    'min_impurity_decrease': [0, 0.1, 0.001]\n",
    "}\n",
    "\n",
    "num_perm = 2 * 3 * 3 * 3 * 2 * 3\n",
    "print(f'GridSearch will search through {num_perm} different permutations.')"
   ]
  },
  {
   "cell_type": "code",
   "execution_count": 72,
   "metadata": {},
   "outputs": [],
   "source": [
    "# start_time = time.time()\n",
    "\n",
    "# dt_grid_search = GridSearchCV(dt, dt_param_grid, scoring='recall', cv=3)\n",
    "# dt_grid_search.fit(scaled_df, y)\n",
    "\n",
    "# print(f'Best Score: {dt_grid_search.best_score_ * 100}%')\n",
    "# print(f'Total Runtime: {time.time() - start_time} seconds')\n",
    "# print('')\n",
    "# print(f'Optimal Parameters: {dt_grid_search.best_params_}')"
   ]
  },
  {
   "cell_type": "markdown",
   "metadata": {},
   "source": [
    "Best Score: 88.55002675227394%\n",
    "Total Runtime: 6.125700950622559 seconds\n",
    "\n",
    "Optimal Parameters: {'class_weight': 'balanced', 'criterion': 'gini', 'max_depth': None, 'min_impurity_decrease': 0, 'min_samples_leaf': 0.1, 'min_samples_split': 0.3}\n",
    "\n",
    "#### Results of Decision Tree GridSearch\n",
    "- class_weight: balanced\n",
    "- criterion: gini (Default)\n",
    "- max_depth: None (Default)\n",
    "- min_impurity_decrease: 0 (Default)\n",
    "- min_samples_leaf: 0.1\n",
    "- min_samples_split: 0.3"
   ]
  },
  {
   "cell_type": "code",
   "execution_count": 73,
   "metadata": {},
   "outputs": [
    {
     "name": "stdout",
     "output_type": "stream",
     "text": [
      "Best Score: 62.10515335124951%\n",
      "Total Runtime: 7.6718010902404785 seconds\n",
      "\n",
      "Optimal Parameters: {'class_weight': 'balanced', 'criterion': 'gini', 'max_depth': None, 'min_impurity_decrease': 0, 'min_samples_leaf': 0.1, 'min_samples_split': 0.1}\n"
     ]
    }
   ],
   "source": [
    "start_time = time.time()\n",
    "\n",
    "dt_grid_search = GridSearchCV(dt, dt_param_grid, scoring=make_scorer(f1_score), cv=3)\n",
    "dt_grid_search.fit(features, target)\n",
    "\n",
    "print(f'Best Score: {dt_grid_search.best_score_ * 100}%')\n",
    "print(f'Total Runtime: {time.time() - start_time} seconds')\n",
    "print('')\n",
    "print(f'Optimal Parameters: {dt_grid_search.best_params_}')"
   ]
  },
  {
   "cell_type": "code",
   "execution_count": 74,
   "metadata": {},
   "outputs": [
    {
     "data": {
      "text/plain": [
       "DecisionTreeClassifier(class_weight='balanced', criterion='gini',\n",
       "            max_depth=None, max_features=None, max_leaf_nodes=None,\n",
       "            min_impurity_decrease=0.0, min_impurity_split=None,\n",
       "            min_samples_leaf=0.1, min_samples_split=0.3,\n",
       "            min_weight_fraction_leaf=0.0, presort=False, random_state=25,\n",
       "            splitter='best')"
      ]
     },
     "execution_count": 74,
     "metadata": {},
     "output_type": "execute_result"
    }
   ],
   "source": [
    "optimized_dt = DecisionTreeClassifier(class_weight='balanced', random_state=25, min_samples_leaf=0.1, min_samples_split=0.3)\n",
    "optimized_dt.fit(X_train, y_train)"
   ]
  },
  {
   "cell_type": "code",
   "execution_count": 75,
   "metadata": {},
   "outputs": [],
   "source": [
    "op_dt_train_preds = optimized_dt.predict(X_train)\n",
    "op_dt_test_preds = optimized_dt.predict(X_test)"
   ]
  },
  {
   "cell_type": "code",
   "execution_count": 76,
   "metadata": {},
   "outputs": [
    {
     "name": "stdout",
     "output_type": "stream",
     "text": [
      "Train Set Classification Report\n",
      "              precision    recall  f1-score   support\n",
      "\n",
      "           0       0.93      0.58      0.71      3859\n",
      "           1       0.43      0.88      0.58      1415\n",
      "\n",
      "   micro avg       0.66      0.66      0.66      5274\n",
      "   macro avg       0.68      0.73      0.65      5274\n",
      "weighted avg       0.80      0.66      0.68      5274\n",
      "\n",
      "**************************************************\n",
      "Test Set Classification Report\n",
      "              precision    recall  f1-score   support\n",
      "\n",
      "           0       0.94      0.55      0.70      1304\n",
      "           1       0.41      0.89      0.56       454\n",
      "\n",
      "   micro avg       0.64      0.64      0.64      1758\n",
      "   macro avg       0.67      0.72      0.63      1758\n",
      "weighted avg       0.80      0.64      0.66      1758\n",
      "\n",
      "**************************************************\n",
      "Train Set Confusion Matrix\n",
      "[[2221 1638]\n",
      " [ 164 1251]]\n",
      "**************************************************\n",
      "Test Set Confusion Matrix\n",
      "[[722 582]\n",
      " [ 50 404]]\n",
      "**************************************************\n",
      "Train Set Accuracy Score\n",
      "0.658323852863102\n",
      "**************************************************\n",
      "Test Set Accuracy Score\n",
      "0.6405005688282139\n"
     ]
    }
   ],
   "source": [
    "print_metrics(y_train, y_test, op_dt_train_preds, op_dt_test_preds)"
   ]
  },
  {
   "cell_type": "code",
   "execution_count": 77,
   "metadata": {},
   "outputs": [
    {
     "name": "stdout",
     "output_type": "stream",
     "text": [
      "Overall Test Recall Score: 0.8898678414096917\n"
     ]
    }
   ],
   "source": [
    "print(f'Overall Test Recall Score: {recall_score(y_test, op_dt_test_preds)}')"
   ]
  },
  {
   "cell_type": "markdown",
   "metadata": {},
   "source": [
    "### This tells us that of the clients we believe will stay, 89% will stay, only 11% will leave"
   ]
  },
  {
   "cell_type": "code",
   "execution_count": 93,
   "metadata": {},
   "outputs": [
    {
     "name": "stdout",
     "output_type": "stream",
     "text": [
      "Overall Test Precision Score: 0.40973630831643004\n"
     ]
    }
   ],
   "source": [
    "print(f'Overall Test Precision Score: {precision_score(y_test, op_dt_test_preds)}')"
   ]
  },
  {
   "cell_type": "markdown",
   "metadata": {},
   "source": [
    "### This tells us that of the clients we believe will leave, 41% will leave, 59% will stay"
   ]
  },
  {
   "cell_type": "code",
   "execution_count": 78,
   "metadata": {},
   "outputs": [
    {
     "name": "stdout",
     "output_type": "stream",
     "text": [
      "Overall Test F1 Score: 0.5611111111111111\n"
     ]
    }
   ],
   "source": [
    "print(f'Overall Test F1 Score: {f1_score(y_test, op_dt_test_preds)}')"
   ]
  },
  {
   "cell_type": "markdown",
   "metadata": {},
   "source": [
    "#### Vanilla AdaBoost"
   ]
  },
  {
   "cell_type": "code",
   "execution_count": 79,
   "metadata": {},
   "outputs": [
    {
     "data": {
      "text/plain": [
       "AdaBoostClassifier(algorithm='SAMME.R', base_estimator=None,\n",
       "          learning_rate=1.0, n_estimators=50, random_state=25)"
      ]
     },
     "execution_count": 79,
     "metadata": {},
     "output_type": "execute_result"
    }
   ],
   "source": [
    "ada = AdaBoostClassifier(random_state=25)\n",
    "ada.fit(X_train, y_train)"
   ]
  },
  {
   "cell_type": "code",
   "execution_count": 80,
   "metadata": {},
   "outputs": [],
   "source": [
    "ada_train_preds = ada.predict(X_train)\n",
    "ada_test_preds = ada.predict(X_test)"
   ]
  },
  {
   "cell_type": "code",
   "execution_count": 81,
   "metadata": {},
   "outputs": [
    {
     "name": "stdout",
     "output_type": "stream",
     "text": [
      "Train Set Classification Report\n",
      "              precision    recall  f1-score   support\n",
      "\n",
      "           0       0.85      0.90      0.88      3859\n",
      "           1       0.68      0.56      0.62      1415\n",
      "\n",
      "   micro avg       0.81      0.81      0.81      5274\n",
      "   macro avg       0.77      0.73      0.75      5274\n",
      "weighted avg       0.80      0.81      0.81      5274\n",
      "\n",
      "**************************************************\n",
      "Test Set Classification Report\n",
      "              precision    recall  f1-score   support\n",
      "\n",
      "           0       0.84      0.90      0.87      1304\n",
      "           1       0.65      0.52      0.58       454\n",
      "\n",
      "   micro avg       0.80      0.80      0.80      1758\n",
      "   macro avg       0.75      0.71      0.73      1758\n",
      "weighted avg       0.79      0.80      0.80      1758\n",
      "\n",
      "**************************************************\n",
      "Train Set Confusion Matrix\n",
      "[[3492  367]\n",
      " [ 620  795]]\n",
      "**************************************************\n",
      "Test Set Confusion Matrix\n",
      "[[1175  129]\n",
      " [ 216  238]]\n",
      "**************************************************\n",
      "Train Set Accuracy Score\n",
      "0.8128555176336746\n",
      "**************************************************\n",
      "Test Set Accuracy Score\n",
      "0.8037542662116041\n"
     ]
    }
   ],
   "source": [
    "print_metrics(y_train, y_test, ada_train_preds, ada_test_preds)"
   ]
  },
  {
   "cell_type": "code",
   "execution_count": 82,
   "metadata": {},
   "outputs": [
    {
     "name": "stdout",
     "output_type": "stream",
     "text": [
      "Overall Test F1 Score: 0.5797807551766139\n"
     ]
    }
   ],
   "source": [
    "print(f'Overall Test F1 Score: {f1_score(y_test, ada_test_preds)}')"
   ]
  },
  {
   "cell_type": "markdown",
   "metadata": {},
   "source": [
    "#### AdaBoost GridSearch"
   ]
  },
  {
   "cell_type": "code",
   "execution_count": 83,
   "metadata": {},
   "outputs": [
    {
     "name": "stdout",
     "output_type": "stream",
     "text": [
      "GridSearch will search through 30 permutations\n"
     ]
    }
   ],
   "source": [
    "ada_param_grid = {\n",
    "    'algorithm': ['SAMME', 'SAMME.R'],\n",
    "    'n_estimators': [25, 50, 75],\n",
    "    'learning_rate': [0.1, 0.3, 0.5, 1, 1.5],\n",
    "}\n",
    "\n",
    "num_perm = 2 * 3 * 5\n",
    "print(f'GridSearch will search through {num_perm} permutations')"
   ]
  },
  {
   "cell_type": "code",
   "execution_count": 84,
   "metadata": {},
   "outputs": [],
   "source": [
    "# start_time = time.time()\n",
    "\n",
    "# ada_grid_search = GridSearchCV(ada, ada_param_grid, scoring='recall', cv=3)\n",
    "# ada_grid_search.fit(scaled_df, y)\n",
    "\n",
    "# print(f'Best Score: {ada_grid_search.best_score_ * 100}%')\n",
    "# print(f'Total Runtime: {time.time() - start_time} seconds')\n",
    "# print('')\n",
    "# print(f'Optimal Parameters: {ada_grid_search.best_params_}')"
   ]
  },
  {
   "cell_type": "markdown",
   "metadata": {},
   "source": [
    "Best Score: 57.73140716960942%\n",
    "Total Runtime: 12.828197002410889 seconds\n",
    "\n",
    "Optimal Parameters: {'algorithm': 'SAMME', 'learning_rate': 1.5, 'n_estimators': 25}\n",
    "\n",
    "#### Results of AdaBoost GridSearch\n",
    "- algorithm: SAMME\n",
    "- learning_rate: 1.5\n",
    "- n_estimators: 25"
   ]
  },
  {
   "cell_type": "code",
   "execution_count": 85,
   "metadata": {},
   "outputs": [
    {
     "data": {
      "text/plain": [
       "AdaBoostClassifier(algorithm='SAMME', base_estimator=None, learning_rate=1.5,\n",
       "          n_estimators=25, random_state=25)"
      ]
     },
     "execution_count": 85,
     "metadata": {},
     "output_type": "execute_result"
    }
   ],
   "source": [
    "optimized_ada = AdaBoostClassifier(algorithm='SAMME', learning_rate=1.5, n_estimators=25, random_state=25)\n",
    "optimized_ada.fit(X_train, y_train)"
   ]
  },
  {
   "cell_type": "code",
   "execution_count": 86,
   "metadata": {},
   "outputs": [],
   "source": [
    "op_ada_train_preds = optimized_ada.predict(X_train)\n",
    "op_ada_test_preds = optimized_ada.predict(X_test)"
   ]
  },
  {
   "cell_type": "code",
   "execution_count": 87,
   "metadata": {
    "scrolled": false
   },
   "outputs": [
    {
     "name": "stdout",
     "output_type": "stream",
     "text": [
      "Train Set Classification Report\n",
      "              precision    recall  f1-score   support\n",
      "\n",
      "           0       0.85      0.90      0.87      3859\n",
      "           1       0.67      0.55      0.60      1415\n",
      "\n",
      "   micro avg       0.81      0.81      0.81      5274\n",
      "   macro avg       0.76      0.73      0.74      5274\n",
      "weighted avg       0.80      0.81      0.80      5274\n",
      "\n",
      "**************************************************\n",
      "Test Set Classification Report\n",
      "              precision    recall  f1-score   support\n",
      "\n",
      "           0       0.83      0.89      0.86      1304\n",
      "           1       0.60      0.49      0.54       454\n",
      "\n",
      "   micro avg       0.78      0.78      0.78      1758\n",
      "   macro avg       0.72      0.69      0.70      1758\n",
      "weighted avg       0.77      0.78      0.78      1758\n",
      "\n",
      "**************************************************\n",
      "Train Set Confusion Matrix\n",
      "[[3469  390]\n",
      " [ 635  780]]\n",
      "**************************************************\n",
      "Test Set Confusion Matrix\n",
      "[[1155  149]\n",
      " [ 232  222]]\n",
      "**************************************************\n",
      "Train Set Accuracy Score\n",
      "0.8056503602578687\n",
      "**************************************************\n",
      "Test Set Accuracy Score\n",
      "0.7832764505119454\n"
     ]
    }
   ],
   "source": [
    "print_metrics(y_train, y_test, op_ada_train_preds, op_ada_test_preds)"
   ]
  },
  {
   "cell_type": "code",
   "execution_count": 88,
   "metadata": {},
   "outputs": [
    {
     "name": "stdout",
     "output_type": "stream",
     "text": [
      "Overall Test Recall Score: 0.4889867841409692\n"
     ]
    }
   ],
   "source": [
    "print(f'Overall Test Recall Score: {recall_score(y_test, op_ada_test_preds)}')"
   ]
  },
  {
   "cell_type": "code",
   "execution_count": 89,
   "metadata": {},
   "outputs": [
    {
     "name": "stdout",
     "output_type": "stream",
     "text": [
      "Overall Test F1 Score: 0.5381818181818182\n"
     ]
    }
   ],
   "source": [
    "print(f'Overall Test F1 Score: {f1_score(y_test, op_ada_test_preds)}')"
   ]
  },
  {
   "cell_type": "code",
   "execution_count": null,
   "metadata": {},
   "outputs": [],
   "source": []
  },
  {
   "cell_type": "code",
   "execution_count": null,
   "metadata": {},
   "outputs": [],
   "source": []
  },
  {
   "cell_type": "code",
   "execution_count": null,
   "metadata": {},
   "outputs": [],
   "source": []
  },
  {
   "cell_type": "code",
   "execution_count": null,
   "metadata": {},
   "outputs": [],
   "source": []
  },
  {
   "cell_type": "code",
   "execution_count": null,
   "metadata": {},
   "outputs": [],
   "source": []
  },
  {
   "cell_type": "code",
   "execution_count": null,
   "metadata": {},
   "outputs": [],
   "source": []
  },
  {
   "cell_type": "code",
   "execution_count": null,
   "metadata": {},
   "outputs": [],
   "source": []
  },
  {
   "cell_type": "markdown",
   "metadata": {},
   "source": [
    "### Stuff that Didn't Work"
   ]
  },
  {
   "cell_type": "code",
   "execution_count": 90,
   "metadata": {},
   "outputs": [],
   "source": [
    "op_rf_custom_train_preds = custom_predict(optimized_rf, X_train)\n",
    "op_rf_custom_test_preds = custom_predict(optimized_rf, X_test)"
   ]
  },
  {
   "cell_type": "code",
   "execution_count": 91,
   "metadata": {},
   "outputs": [
    {
     "name": "stdout",
     "output_type": "stream",
     "text": [
      "Train Set Classification Report\n",
      "              precision    recall  f1-score   support\n",
      "\n",
      "           0       0.00      0.00      0.00      3859\n",
      "           1       0.27      1.00      0.42      1415\n",
      "\n",
      "   micro avg       0.27      0.27      0.27      5274\n",
      "   macro avg       0.13      0.50      0.21      5274\n",
      "weighted avg       0.07      0.27      0.11      5274\n",
      "\n",
      "**************************************************\n",
      "Test Set Classification Report\n",
      "              precision    recall  f1-score   support\n",
      "\n",
      "           0       0.00      0.00      0.00      1304\n",
      "           1       0.26      1.00      0.41       454\n",
      "\n",
      "   micro avg       0.26      0.26      0.26      1758\n",
      "   macro avg       0.13      0.50      0.21      1758\n",
      "weighted avg       0.07      0.26      0.11      1758\n",
      "\n",
      "**************************************************\n",
      "Train Set Confusion Matrix\n",
      "[[   0 3859]\n",
      " [   0 1415]]\n",
      "**************************************************\n",
      "Test Set Confusion Matrix\n",
      "[[   0 1304]\n",
      " [   0  454]]\n",
      "**************************************************\n",
      "Train Set Accuracy Score\n",
      "0.2682973075464543\n",
      "**************************************************\n",
      "Test Set Accuracy Score\n",
      "0.2582480091012514\n"
     ]
    }
   ],
   "source": [
    "print_metrics(y_train, y_test, op_rf_custom_train_preds, op_rf_custom_test_preds)"
   ]
  },
  {
   "cell_type": "code",
   "execution_count": null,
   "metadata": {},
   "outputs": [],
   "source": []
  }
 ],
 "metadata": {
  "kernelspec": {
   "display_name": "learn-env",
   "language": "python",
   "name": "learn-env"
  },
  "language_info": {
   "codemirror_mode": {
    "name": "ipython",
    "version": 3
   },
   "file_extension": ".py",
   "mimetype": "text/x-python",
   "name": "python",
   "nbconvert_exporter": "python",
   "pygments_lexer": "ipython3",
   "version": "3.6.6"
  }
 },
 "nbformat": 4,
 "nbformat_minor": 2
}
